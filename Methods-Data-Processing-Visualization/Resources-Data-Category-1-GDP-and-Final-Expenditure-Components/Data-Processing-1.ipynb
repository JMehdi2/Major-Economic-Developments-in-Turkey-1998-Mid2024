{
 "cells": [
  {
   "cell_type": "markdown",
   "id": "655f0ac3",
   "metadata": {},
   "source": [
    "<div style=\"text-align: center; width: 100%; height: auto; padding: 100px;\">\n",
    "    <span style=\"font-size: 50px; font-weight: bold; display: block;\">Data Processing Code</span>\n",
    "    <br>\n",
    "    <br>\n",
    "<div style=\"text-align: left;font-size: 30px; font-weight: bold;line-height: 1.2; \">Data Category 1: GDP and Final Expenditure Components</div>\n",
    "    <br>\n",
    "    <br>\n",
    "    <br>\n",
    "    <div style=\"text-align: left; font-size: 15px;\">Realized by Mehdi Jaddour</div>\n",
    "    <div style=\"text-align: left; font-size: 15px;\">\n",
    "        <a href=\"https://github.com/JMehdi2/Major-Economic-Developments-in-Turkey-1998-Mid2024\" target=\"_blank\">Project GitHub Repository</a>\n",
    "    </div>\n",
    "</div>"
   ]
  },
  {
   "cell_type": "code",
   "execution_count": 513,
   "id": "b540d02b",
   "metadata": {},
   "outputs": [],
   "source": [
    "import os\n",
    "import pandas as pd\n",
    "import numpy as np\n",
    "import statsmodels.api as sm\n",
    "import plotly.graph_objects as go\n",
    "from plotly.subplots import make_subplots\n",
    "import ipywidgets as widgets\n",
    "from IPython.display import display\n",
    "import warnings\n",
    "from pandas.errors import PerformanceWarning\n",
    "\n",
    "#Suppress PerformanceWarning\n",
    "warnings.filterwarnings(\"ignore\", category=PerformanceWarning)\n",
    "\n",
    "curr_dir = os.getcwd()"
   ]
  },
  {
   "cell_type": "code",
   "execution_count": null,
   "id": "4e099ba4",
   "metadata": {},
   "outputs": [],
   "source": []
  },
  {
   "cell_type": "code",
   "execution_count": null,
   "id": "360cee99",
   "metadata": {},
   "outputs": [],
   "source": []
  },
  {
   "cell_type": "markdown",
   "id": "eac54fbb",
   "metadata": {},
   "source": [
    "<span style=\"font-size: 30px;font-weight: bold;\">Table of Contents</span>"
   ]
  },
  {
   "cell_type": "markdown",
   "id": "98da31bb",
   "metadata": {},
   "source": [
    ">##  [1. Annual Data](#year_gdp)\n",
    ">>### [1.1. Data Preparation](#year_gdp_prep)\n",
    ">>### [1.2. Identification of Additional Final Expenditure Aggregates](#year_gdp_agg)\n",
    ">>### [1.3. Calculation of Growth Rates](#year_gdp_gr)\n",
    ">>### [1.4. Calculation of Implicit Price Deflators](#year_gdp_def)\n",
    ">>### [1.5. Volume and Price Decomposition into Trend and Cyclical Components](#year_gdp_decomp)\n",
    ">>>#### [1.5.1. Volume Decomposition](#year_gdp_decomp_volume)  \n",
    ">>>#### [1.5.2. Price Decomposition](#year_gdp_decomp_price)  \n",
    ">>### [1.6. Calculation of Additive Contributions to Growth](#year_gdp_contrib)  \n",
    ">>### [1.7. Shares in Main Aggregates](#year_gdp_share)\n",
    ">>### [1.8. GDP per Capita](#year_gdp_percapita)\n",
    ">>### [1.9. Change in Stocks in Real Terms](#year_gdp_stocks)\n",
    "\n",
    ">##  [2. Quarterly Data](#quart_gdp)\n",
    ">>### [2.1. Data Preparation](#quart_gdp_prep)\n",
    ">>### [2.2. Identification of Additional Final Expenditure Aggregates](#quart_gdp_agg)\n",
    ">>>#### [2.2.1. Temporal Consistency Check](#quart_gdp_agg_check) \n",
    ">>>> [2.2.1.1. Volume Indices](#quart_gdp_agg_check_vol)  \n",
    ">>>> [2.2.1.2. Values at Current Prices](#quart_gdp_agg_check_nom)  \n",
    ">>>#### [2.2.2. Calculation of Quarterly Additional Expenditure Aggregates](#quart_gdp_agg_quart)\n",
    ">>### [2.3. Calculation of Growth Rates](#quart_gdp_gr) \n",
    ">>### [2.4. Calculation of Implicit Price Deflators](#quart_gdp_def)\n",
    ">>### [2.5. Volume and Price Decomposition into Trend and Cyclical Components](#quart_gdp_decomp)\n",
    ">>>#### [2.5.1. Volume Decomposition](#quart_gdp_decomp_volume)  \n",
    ">>>#### [2.5.2. Price Decomposition](#quart_gdp_decomp_price)  \n",
    ">>### [2.6. Calculation of Additive Contributions to QonQ and YoY Growth](#quart_gdp_contrib_qonq) \n",
    ">>### [2.7. Shares in Main Aggregates](#quart_gdp_share)\n",
    ">>### [2.8. Change in Stocks in Real Terms](#quart_gdp_stocks)"
   ]
  },
  {
   "cell_type": "markdown",
   "id": "86f7adf4",
   "metadata": {},
   "source": [
    "<a class=\"anchor\" id=\"year_gdp\"></a>\n",
    "# 1. Annual data"
   ]
  },
  {
   "cell_type": "markdown",
   "id": "7e1c8601",
   "metadata": {},
   "source": [
    "<a class=\"anchor\" id=\"year_gdp_prep\"></a>\n",
    "## 1.1. Data Preparation "
   ]
  },
  {
   "cell_type": "code",
   "execution_count": 514,
   "id": "ccc65d7c",
   "metadata": {},
   "outputs": [],
   "source": [
    "#Load Data\n",
    "##Volume index\n",
    "year_gdp_volume = pd.read_excel('y_gdp_exp_cli.xls',index_col=0)\n",
    "##Volume index, calendar adjusted\n",
    "year_gdp_volume_caladj = pd.read_excel('y_gdp_exp_cli _caladj.xls',index_col=0)\n",
    "##Value at current prices\n",
    "year_gdp_nominal = pd.read_excel('y_gdp_exp_curr.xls',index_col=0)\n",
    "##GDP per capita\n",
    "year_percap_gdp = pd.read_excel('y_gdp_percapita_curr.xls',index_col=0)"
   ]
  },
  {
   "cell_type": "code",
   "execution_count": 515,
   "id": "931c95cf",
   "metadata": {},
   "outputs": [],
   "source": [
    "#Initiate the Annual Parent Dataset\n",
    "Datasets = [year_gdp_volume,year_gdp_nominal,year_gdp_volume_caladj]\n",
    "keys = [('Accounts','Volume'),('Accounts','Nominal'),('Accounts','Volume Cal Adjusted')]\n",
    "year_gdp_data = pd.concat(Datasets,axis=1,keys=keys)"
   ]
  },
  {
   "cell_type": "markdown",
   "id": "f344a667",
   "metadata": {},
   "source": [
    "<a class=\"anchor\" id=\"year_gdp_agg\"></a>\n",
    "## 1.2. Identification of Additional Final Expenditure Aggregates "
   ]
  },
  {
   "cell_type": "code",
   "execution_count": 516,
   "id": "3451fe64",
   "metadata": {},
   "outputs": [],
   "source": [
    "#Define a function to aggregate volume indices and values at current prices\n",
    "def y_aggregate_cli_nomi(comp1,comp2,agg_name):\n",
    "    \n",
    "    global year_gdp_data\n",
    "    #Calculate value at current prices for the aggregate\n",
    "    agg_nominal = year_gdp_data['Accounts','Nominal',comp1]+year_gdp_data['Accounts','Nominal',comp2]\n",
    "    #Insert in parent dataset\n",
    "    try:\n",
    "        pos_nominal = year_gdp_data.columns.get_loc(('Accounts','Nominal',comp2))\n",
    "        year_gdp_data.insert(pos_nominal+1,('Accounts','Nominal',agg_name),agg_nominal)\n",
    "    except:\n",
    "        year_gdp_data['Accounts','Nominal',agg_name] = agg_nominal\n",
    "    #Aggregation of unadjusted and calendar adjusted volume indices\n",
    "    for vol_adj in ['Volume','Volume Cal Adjusted']:\n",
    "        #Calculate and aggregate volume indices from previous year\n",
    "        agg_pyp = 0\n",
    "        for comp in [comp1,comp2]:\n",
    "            #Calculate the volume index from previous year for comp\n",
    "            comp_pyp = year_gdp_data[('Accounts',vol_adj,comp)]/\\\n",
    "                year_gdp_data[('Accounts',vol_adj,comp)].shift()\n",
    "            #Aggregate volume indices from previous year\n",
    "            agg_pyp += comp_pyp*(year_gdp_data['Accounts','Nominal',comp]/agg_nominal).shift()\n",
    "        #Chain Link the volume indices from previous year for the aggregate\n",
    "        agg_cli = agg_pyp.cumprod()\n",
    "        ##Assign 1 to year 1998\n",
    "        agg_cli.loc[1998] = 1\n",
    "        #Rereference to year 2009 and express on a scale of 100\n",
    "        agg_cli = 100*agg_cli/agg_cli.loc[2009]\n",
    "        #Insert in dataset\n",
    "        try:\n",
    "            pos_cli = year_gdp_data.columns.get_loc(('Accounts',vol_adj,comp2))\n",
    "            year_gdp_data.insert(pos_cli+1,('Accounts',vol_adj,agg_name),agg_cli)\n",
    "        except:\n",
    "            year_gdp_data['Accounts',vol_adj,agg_name] = agg_cli\n",
    "        \n",
    "    print('Done')"
   ]
  },
  {
   "cell_type": "code",
   "execution_count": 517,
   "id": "141a4859",
   "metadata": {},
   "outputs": [
    {
     "name": "stdout",
     "output_type": "stream",
     "text": [
      "Done\n",
      "Done\n",
      "Done\n"
     ]
    }
   ],
   "source": [
    "#Identify aggregates\n",
    "#Final Private Consumption Expenditure, Final Domestic Consumption Expenditure, and Final Domestic Demand Expenditure \n",
    "#(see A-III-3 in the Methods Section of the report)\n",
    "\n",
    "L = [('Final Consumption Expenditure of Households','Final Consumption Expenditure Of Npish','Final Private Consumption Expenditure'),\n",
    "('Final Private Consumption Expenditure','Government Final Consumption Expenditure','Final Domestic Consumption Expenditure'),\n",
    "('Final Domestic Consumption Expenditure','Gross Fixed Capital Formation','Final Domestic Demand Expenditure')]\n",
    "\n",
    "for req in L:\n",
    "    y_aggregate_cli_nomi(req[0],req[1],req[2])"
   ]
  },
  {
   "cell_type": "markdown",
   "id": "b46a789b",
   "metadata": {},
   "source": [
    " <a class=\"anchor\" id=\"year_gdp_gr\"></a>\n",
    "## 1.3. Calculation of Growth Rates"
   ]
  },
  {
   "cell_type": "code",
   "execution_count": 518,
   "id": "a199d51e",
   "metadata": {},
   "outputs": [],
   "source": [
    "#Calculate Growth Rates\n",
    "year_gdp_growth = year_gdp_data['Accounts'].diff()/abs(year_gdp_data['Accounts'].shift())\n",
    "#Concatenate\n",
    "year_gdp_growth = pd.concat([year_gdp_growth],axis=1,keys=['Growth Rate'])\n",
    "year_gdp_data = pd.concat([year_gdp_data,year_gdp_growth],axis=1)"
   ]
  },
  {
   "cell_type": "markdown",
   "id": "d61701e6",
   "metadata": {},
   "source": [
    " <a class=\"anchor\" id=\"year_gdp_def\"></a>\n",
    "## 1.4. Calculation of Implicit Price Deflators"
   ]
  },
  {
   "cell_type": "code",
   "execution_count": 519,
   "id": "8648d4ff",
   "metadata": {},
   "outputs": [],
   "source": [
    "for col in year_gdp_data['Accounts','Volume'].columns: \n",
    "    #Calculate the Implicit Price Deflator\n",
    "    year_gdp_data['Price Deflator',col,'Index'] = 100*year_gdp_data['Accounts','Nominal',col]/\\\n",
    "    (year_gdp_data['Accounts','Volume',col]/100*year_gdp_data['Accounts','Nominal',col].loc[2009])\n",
    "    #Calculate the YonY inflation rate\n",
    "    year_gdp_data['Price Deflator',col,'YonY %'] = year_gdp_data['Price Deflator',col,'Index'].diff()/year_gdp_data['Price Deflator',col,'Index'].shift()\n",
    "    \n",
    "for col in year_gdp_data['Accounts','Volume'].columns: \n",
    "    #Calculate the Implicit Price Deflator\n",
    "    year_gdp_data['Price Deflator Cal Adjusted',col,'Index'] = 100*year_gdp_data['Accounts','Nominal',col]/\\\n",
    "    (year_gdp_data['Accounts','Volume Cal Adjusted',col]/100*year_gdp_data['Accounts','Nominal',col].loc[2009])\n",
    "    #Calculate the YonY inflation rate\n",
    "    year_gdp_data['Price Deflator Cal Adjusted',col,'YonY %'] = year_gdp_data['Price Deflator Cal Adjusted',col,'Index'].diff()/year_gdp_data['Price Deflator Cal Adjusted',col,'Index'].shift()\n",
    "    "
   ]
  },
  {
   "cell_type": "markdown",
   "id": "5ee9008a",
   "metadata": {},
   "source": [
    "<a class=\"anchor\" id=\"year_gdp_decomp\"></a>\n",
    "## 1.5. Volume and Price Decomposition into Trend and Cyclical Components"
   ]
  },
  {
   "cell_type": "markdown",
   "id": "b11bc9fc",
   "metadata": {},
   "source": [
    "<a class=\"anchor\" id=\"year_gdp_decomp_volume\"></a>\n",
    "### 1.5.1. Volume Decomposition"
   ]
  },
  {
   "cell_type": "code",
   "execution_count": 520,
   "id": "bf1510a5",
   "metadata": {
    "scrolled": true
   },
   "outputs": [],
   "source": [
    "for col in year_gdp_data['Accounts','Volume Cal Adjusted'].columns:\n",
    "    #Calculate log values\n",
    "    series_log = np.log(year_gdp_data['Accounts','Volume Cal Adjusted',col])\n",
    "    year_gdp_data['Volume Decomp',col,'Log Value'] = series_log\n",
    "    #Decompose using the HP Filter\n",
    "    series_cyc ,series_trend  = sm.tsa.filters.hpfilter(series_log.loc[:2023],lamb=6.25)\n",
    "    #Reverse Log transformation to get the trend for the original series\n",
    "    year_gdp_data['Volume Decomp',col,'Trend'] = np.exp(series_trend)\n",
    "    #Calculate the cyclical factor for the original series\n",
    "    year_gdp_data['Volume Decomp',col,'Cyclical'] = year_gdp_data['Accounts','Volume Cal Adjusted',col]/np.exp(series_trend)\n",
    "    #Calculate the percentage deviation from the trend\n",
    "    year_gdp_data['Volume Decomp',col,'Percentage Deviation'] = year_gdp_data['Volume Decomp',col,'Cyclical']-1\n",
    "    #Trend growth rate\n",
    "    year_gdp_data['Volume Decomp',col,'Trend Growth Rate'] = np.exp(series_trend).diff()/np.exp(series_trend).shift()"
   ]
  },
  {
   "cell_type": "markdown",
   "id": "89a83923",
   "metadata": {},
   "source": [
    "<a class=\"anchor\" id=\"year_gdp_decomp_price\"></a>\n",
    "### 1.5.2 Price Decomposition"
   ]
  },
  {
   "cell_type": "code",
   "execution_count": 521,
   "id": "412be189",
   "metadata": {},
   "outputs": [],
   "source": [
    "for col in year_gdp_data['Price Deflator Cal Adjusted'].columns.get_level_values(0).unique():\n",
    "    #Calculate log values\n",
    "    series_log = np.log(year_gdp_data['Price Deflator Cal Adjusted',col,'Index'])\n",
    "    year_gdp_data['Price Decomp',col,'Log Value'] = series_log\n",
    "    #Decompose using the HP Filter\n",
    "    series_cyc ,series_trend  = sm.tsa.filters.hpfilter(series_log.loc[:2023],lamb=6.25)\n",
    "    #Reverse Log transformation to get the trend for the original series\n",
    "    year_gdp_data['Price Decomp',col,'Trend'] = np.exp(series_trend)\n",
    "    #Calculate the cyclical factor for the original series\n",
    "    year_gdp_data['Price Decomp',col,'Cyclical'] = year_gdp_data['Price Deflator Cal Adjusted',col,'Index']/np.exp(series_trend)\n",
    "    #Calculate the percentage deviation from the trend\n",
    "    year_gdp_data['Price Decomp',col,'Percentage Deviation'] = year_gdp_data['Price Decomp',col,'Cyclical']-1\n",
    "    #Trend growth rate\n",
    "    year_gdp_data['Price Decomp',col,'Trend Growth Rate'] = np.exp(series_trend).diff()/np.exp(series_trend).shift()"
   ]
  },
  {
   "cell_type": "markdown",
   "id": "7d22ca9f",
   "metadata": {},
   "source": [
    "<a class=\"anchor\" id=\"year_gdp_contrib\"></a>\n",
    "## 1.6. The Calculation of Additive Contributions to Growth "
   ]
  },
  {
   "cell_type": "code",
   "execution_count": 522,
   "id": "c7256a94",
   "metadata": {},
   "outputs": [],
   "source": [
    "#Prepare the required series (Price Indices and Volume measures in monetary terms)\n",
    "price_index = year_gdp_data.loc[:,('Price Deflator',slice(None),'Index')].copy()\n",
    "price_index.columns = price_index.columns.droplevel([0,2])\n",
    "year_gdp_cli_money = 0.01*year_gdp_data['Accounts','Volume'].multiply(year_gdp_data.loc[2009,('Accounts','Nominal')],axis=1)"
   ]
  },
  {
   "cell_type": "code",
   "execution_count": 523,
   "id": "acce280d",
   "metadata": {},
   "outputs": [],
   "source": [
    "#Define a function that computes contributions to nominal and volume growth\n",
    "def contrib(Comp,agg_name):\n",
    "    \n",
    "    global year_gdp_data,year_gdp_cli_money,price_index\n",
    "    #Calculate contributions to volume growth\n",
    "    df_v = year_gdp_cli_money[list(Comp)].diff()*price_index[list(Comp)].shift().div((year_gdp_cli_money[Comp[0]]*price_index[Comp[0]]).shift(),axis=0)\n",
    "   \n",
    "    #Calculate contributions to nominal growth\n",
    "    if agg_name == 'GDP':\n",
    "        df_n = year_gdp_data['Accounts','Nominal'].diff().div(year_gdp_data['Accounts','Nominal','GDP'].shift(),axis=0)\n",
    "    else:\n",
    "        df_n = year_gdp_data['Accounts','Nominal'][list(Comp)].diff().div(year_gdp_data['Accounts','Nominal',Comp[0]].shift(),axis=0)\n",
    "    \n",
    "    ## For contributions to GDP growth\n",
    "    if agg_name == 'GDP':\n",
    "        ###Calculate the contribution of Change In stocks to volume growth as a residual\n",
    "        df_v['Change In stocks'] = df_v['GDP'] - (df_v['Final Domestic Demand Expenditure'] + \\\n",
    "                        df_v['Exports Of Goods And Services'] - df_v['Imports Of Goods And Services'])\n",
    "        ###Adjust the sign for the contribution of Imports to volume and nominal growths\n",
    "        df_v['Imports Of Goods And Services'] = - df_v['Imports Of Goods And Services']\n",
    "        df_n['Imports Of Goods And Services'] = - df_n['Imports Of Goods And Services']\n",
    "        \n",
    "    #Concatenate contribution datasets\n",
    "    key_0 = f'Contribution to {agg_name} Growth'\n",
    "    df = pd.concat([df_v,df_n],keys=[(key_0,'Volume'),(key_0,'Nominal')],axis=1)\n",
    "    #Add to parent dataset\n",
    "    year_gdp_data = pd.concat([year_gdp_data,df],axis=1)"
   ]
  },
  {
   "cell_type": "code",
   "execution_count": 524,
   "id": "118dc15a",
   "metadata": {},
   "outputs": [],
   "source": [
    "#Compute contributions to the growth of:\n",
    "#GDP, Final Domestic Consumption Expenditure, and Final Domestic Demand Expenditure \n",
    "#(see A-III-6 in the Methods Section of the report)\n",
    "S1 = tuple(year_gdp_data['Accounts','Volume'].columns)\n",
    "S2 = ('Final Domestic Consumption Expenditure','Final Consumption Expenditure of Households',\n",
    "        'Final Consumption Expenditure Of Npish','Final Private Consumption Expenditure',\n",
    "    'Government Final Consumption Expenditure')\n",
    "S3 = ('Final Domestic Demand Expenditure','Final Consumption Expenditure of Households',\n",
    "        'Final Consumption Expenditure Of Npish','Final Private Consumption Expenditure',\n",
    "    'Government Final Consumption Expenditure','Final Domestic Consumption Expenditure','Gross Fixed Capital Formation')\n",
    "\n",
    "L = [(S1,'GDP'),(S2,'Domestic Consumption'),(S3,'Domestic Demand')]\n",
    "\n",
    "for req in L:\n",
    "    contrib(req[0],req[1])"
   ]
  },
  {
   "cell_type": "markdown",
   "id": "fc450390",
   "metadata": {},
   "source": [
    "<a class=\"anchor\" id=\"year_gdp_share\"></a>\n",
    "## 1.7. Shares in Main Aggregates"
   ]
  },
  {
   "cell_type": "code",
   "execution_count": 525,
   "id": "5683a28a",
   "metadata": {},
   "outputs": [],
   "source": [
    "#Prepare the required data (price indices and volume measures in monetary terms)\n",
    "price_index = year_gdp_data.loc[:,('Price Deflator',slice(None),'Index')].copy()\n",
    "price_index.columns = price_index.columns.droplevel([0,2])\n",
    "year_gdp_cli_money = 0.01*year_gdp_data['Accounts','Volume'].multiply(year_gdp_data.loc[2009,('Accounts','Nominal')],axis=1)"
   ]
  },
  {
   "cell_type": "code",
   "execution_count": 526,
   "id": "8a385a8a",
   "metadata": {},
   "outputs": [],
   "source": [
    "def share(Comp,name):\n",
    "    \n",
    "    global year_gdp_data,price_index,year_gdp_cli_money\n",
    "    #Calculate nominal shares\n",
    "    if name == 'GDP':\n",
    "        df_n = year_gdp_data['Accounts','Nominal'].div(year_gdp_data['Accounts','Nominal','GDP'],axis=0)\n",
    "    else:\n",
    "        df_n = year_gdp_data['Accounts','Nominal'][list(Comp)].div(year_gdp_data['Accounts','Nominal',Comp[0]],axis=0)\n",
    "        \n",
    "    #Calculate the volume and price components of the nominal shares\n",
    "    df_v = year_gdp_cli_money[list(Comp)].div(year_gdp_cli_money[Comp[0]],axis=0)\n",
    "    df_p = price_index[list(Comp)].div(price_index[Comp[0]],axis=0)\n",
    "    \n",
    "    ## For contributions to GDP growth\n",
    "    if name == 'GDP':\n",
    "        ###Adjust the sign for the share and volume component of Imports\n",
    "        df_v['Imports Of Goods And Services'] = - df_v['Imports Of Goods And Services']\n",
    "        df_n['Imports Of Goods And Services'] = - df_n['Imports Of Goods And Services']\n",
    "        \n",
    "    #Concatenate shares and components\n",
    "    key_0 = f'Share in {name}'\n",
    "    df = pd.concat([df_n,df_v,df_p],keys=[(key_0,'Nominal'),(key_0,'Relative Volume'),(key_0,'Relative Price')],axis=1)\n",
    "    #Add to parent dataset\n",
    "    year_gdp_data = pd.concat([year_gdp_data,df],axis=1)"
   ]
  },
  {
   "cell_type": "code",
   "execution_count": 527,
   "id": "e2546821",
   "metadata": {},
   "outputs": [],
   "source": [
    "#Compute shares in:\n",
    "#GDP, Final Domestic Consumption Expenditure, and Final Domestic Demand Expenditure \n",
    "#(see A-III-7 in the Methods Section of the report)\n",
    "S1 = tuple(year_gdp_data['Accounts','Volume'].columns)\n",
    "S2 = ('Final Domestic Consumption Expenditure','Final Consumption Expenditure of Households',\n",
    "        'Final Consumption Expenditure Of Npish','Final Private Consumption Expenditure',\n",
    "    'Government Final Consumption Expenditure')\n",
    "S3 = ('Final Domestic Demand Expenditure','Final Consumption Expenditure of Households',\n",
    "        'Final Consumption Expenditure Of Npish','Final Private Consumption Expenditure',\n",
    "    'Government Final Consumption Expenditure','Final Domestic Consumption Expenditure','Gross Fixed Capital Formation')\n",
    "\n",
    "L = [(S1,'GDP'),(S2,'Domestic Consumption'),(S3,'Domestic Demand')]\n",
    "\n",
    "for req in L:\n",
    "    share(req[0],req[1])"
   ]
  },
  {
   "cell_type": "markdown",
   "id": "9f8d3f83",
   "metadata": {},
   "source": [
    "<a class=\"anchor\" id=\"year_gdp_percapita\"></a>\n",
    "## 1.8. GDP Per Capita"
   ]
  },
  {
   "cell_type": "code",
   "execution_count": 528,
   "id": "c7abb149",
   "metadata": {},
   "outputs": [],
   "source": [
    "#Calculate growth rates for nominal GDP per capita\n",
    "year_percap_gdp['TRY value Growth'] = year_percap_gdp['TRY value'].diff()/ year_percap_gdp['TRY value'].shift()\n",
    "year_percap_gdp['USD value Growth'] = year_percap_gdp['USD value'].diff()/ year_percap_gdp['USD value'].shift()\n",
    "#Add column index level\n",
    "year_percap_gdp = pd.concat([year_percap_gdp],keys=['Nominal'],axis=1)"
   ]
  },
  {
   "cell_type": "code",
   "execution_count": 529,
   "id": "7f279e53",
   "metadata": {},
   "outputs": [],
   "source": [
    "#Calculate GDP per capita's volume Index and its Growth Rate\n",
    "##Unadjusted\n",
    "year_percap_gdp['Volume','Volume'] = 100*(year_percap_gdp['Nominal','TRY value']/year_percap_gdp.loc[2009,('Nominal','TRY value')])/(year_gdp_data['Price Deflator','GDP','Index']/100)\n",
    "year_percap_gdp['Volume','Volume Growth'] = year_percap_gdp['Volume','Volume'].diff()/year_percap_gdp['Volume','Volume'].shift()\n",
    "##Calendar adjusted\n",
    "year_percap_gdp['Volume','Volume Cal Adjusted'] = 100*(year_percap_gdp['Nominal','TRY value']/year_percap_gdp.loc[2009,('Nominal','TRY value')])/(year_gdp_data['Price Deflator Cal Adjusted','GDP','Index']/100)\n",
    "year_percap_gdp['Volume','Volume Cal Adjusted Growth'] = year_percap_gdp['Volume','Volume Cal Adjusted'].diff()/year_percap_gdp['Volume','Volume Cal Adjusted'].shift()"
   ]
  },
  {
   "cell_type": "code",
   "execution_count": 530,
   "id": "0dfd266d",
   "metadata": {},
   "outputs": [],
   "source": [
    "#Concatenate\n",
    "year_percap_gdp = pd.concat([year_percap_gdp],keys=['GDP per Capita'],axis=1)\n",
    "year_gdp_data = pd.concat([year_gdp_data,year_percap_gdp],axis=1)"
   ]
  },
  {
   "cell_type": "markdown",
   "id": "965017f9",
   "metadata": {},
   "source": [
    "<a class=\"anchor\" id=\"year_gdp_stocks\"></a>\n",
    "## 1.9. Change in Stocks in Real Terms"
   ]
  },
  {
   "cell_type": "code",
   "execution_count": 531,
   "id": "9af4c83c",
   "metadata": {},
   "outputs": [],
   "source": [
    "#For unadjusted and adjusted series (nominal series do not contain calendar effects)\n",
    "for nat in [('Volume','Price Deflator'),('Volume Cal Adjusted','Price Deflator Cal Adjusted')]:\n",
    "    #Calculate change in stocks in real terms\n",
    "    series_r = 100*(year_gdp_data['Accounts','Nominal','Change In stocks']/year_gdp_data.loc[2009,('Accounts','Nominal','Change In stocks')])\\\n",
    "/(0.01*year_gdp_data[nat[1],'GDP','Index'])\n",
    "    #Calculate growth rate\n",
    "    series_gr = series_r.diff()/abs(series_r.shift())\n",
    "    #Insert in parent dataset\n",
    "    Series = [series_r,series_gr]\n",
    "    j = 0\n",
    "    for data in ['Accounts','Growth Rate']:\n",
    "        pos = year_gdp_data.columns.get_loc((data,nat[0],'Final Domestic Demand Expenditure'))+1\n",
    "        year_gdp_data.insert(pos,(data,nat[0],'Change in Stocks (Real)'),Series[j])\n",
    "        j += 1"
   ]
  },
  {
   "cell_type": "markdown",
   "id": "f8db91ef",
   "metadata": {},
   "source": [
    "### Save Data"
   ]
  },
  {
   "cell_type": "markdown",
   "id": "97a03bcf",
   "metadata": {},
   "source": [
    "file_name = curr_dir + '\\\\Results\\\\y_gdp_data.xlsx'\n",
    "year_gdp_data.to_excel(file_name)"
   ]
  },
  {
   "cell_type": "code",
   "execution_count": null,
   "id": "c079c0b5",
   "metadata": {},
   "outputs": [],
   "source": []
  },
  {
   "cell_type": "markdown",
   "id": "d4d08c5c",
   "metadata": {},
   "source": [
    "# 2. Quarterly data <a class=\"anchor\" id=\"quart_gdp\"></a>"
   ]
  },
  {
   "cell_type": "markdown",
   "id": "03dcab8a",
   "metadata": {},
   "source": [
    "## 2.1. Data Preparation <a class=\"anchor\" id=\"quart_gdp_prep\"></a>"
   ]
  },
  {
   "cell_type": "code",
   "execution_count": 532,
   "id": "18ec63cb",
   "metadata": {},
   "outputs": [],
   "source": [
    "#Load Data\n",
    "##Adjusted Volume Index\n",
    "quart_gdp_volume_alladj = pd.read_excel('q_gdp_cli_adj.xls',index_col=[0,1])\n",
    "##Unadjusted Volume Index\n",
    "quart_gdp_volume_noadj = pd.read_excel('q_gdp_cli_noadj.xls',index_col=[0,1])\n",
    "##Seasonally Adjusted Volume Index\n",
    "quart_gdp_volume_seaadj = pd.read_excel('q_gdp_cli_seaadj.xls',index_col=[0,1])\n",
    "##Seasonally Adjusted Value at Current Prices\n",
    "quart_gdp_nominal_seaadj = pd.read_excel('q_gdp_currpr_seaadj.xls',index_col=[0,1])\n",
    "##Unadjusted Value at Current Prices\n",
    "quart_gdp_nominal_noadj = pd.read_excel('q_gdp_currpr_noadj.xls',index_col=[0,1])"
   ]
  },
  {
   "cell_type": "markdown",
   "id": "0c12de37",
   "metadata": {},
   "source": [
    "**Concatenate all in one dataframe**"
   ]
  },
  {
   "cell_type": "code",
   "execution_count": 533,
   "id": "8e6adbf5",
   "metadata": {},
   "outputs": [],
   "source": [
    "#Initiate the quarterly parent dataset\n",
    "Datasets = [quart_gdp_volume_alladj,quart_gdp_volume_seaadj,quart_gdp_volume_noadj,quart_gdp_nominal_seaadj,\n",
    "            quart_gdp_nominal_noadj]\n",
    "keys = [('Accounts','Volume','Adjusted'),('Accounts','Volume','Seas Adjusted'),('Accounts','Volume','Not Adjusted'),\n",
    "            ('Accounts','Nominal','Seas Adjusted'),('Accounts','Nominal','Not Adjusted')]\n",
    "\n",
    "quart_gdp_data = pd.concat(Datasets,axis=1,keys=keys) "
   ]
  },
  {
   "cell_type": "markdown",
   "id": "9e42310e",
   "metadata": {},
   "source": [
    "<a class=\"anchor\" id=\"quart_gdp_agg\"></a>\n",
    "## 2.2. Identification of Additional Final Expenditure Aggregates "
   ]
  },
  {
   "cell_type": "markdown",
   "id": "20860763",
   "metadata": {},
   "source": [
    "<a class=\"anchor\" id=\"quart_gdp_agg_check\"></a>\n",
    "### 2.2.1. Temporal Consistency Check "
   ]
  },
  {
   "cell_type": "markdown",
   "id": "7fd1af36",
   "metadata": {},
   "source": [
    "<a class=\"anchor\" id=\"quart_gdp_agg_check_vol\"></a>\\\n",
    "**2.2.1.1. Volume Indices** "
   ]
  },
  {
   "cell_type": "code",
   "execution_count": 534,
   "id": "2499de97",
   "metadata": {},
   "outputs": [
    {
     "data": {
      "application/vnd.jupyter.widget-view+json": {
       "model_id": "139eac434f9243a387b43fc935d02d82",
       "version_major": 2,
       "version_minor": 0
      },
      "text/plain": [
       "Dropdown(description='Adjustment applied to the annual series:', layout=Layout(width='initial'), options=('Una…"
      ]
     },
     "metadata": {},
     "output_type": "display_data"
    },
    {
     "data": {
      "application/vnd.jupyter.widget-view+json": {
       "model_id": "777d082e441f43c0b3f1766ed8e1771d",
       "version_major": 2,
       "version_minor": 0
      },
      "text/plain": [
       "Output()"
      ]
     },
     "metadata": {},
     "output_type": "display_data"
    },
    {
     "data": {
      "application/vnd.jupyter.widget-view+json": {
       "model_id": "be71b82408b94167a5bd88f08ba641a5",
       "version_major": 2,
       "version_minor": 0
      },
      "text/plain": [
       "Output()"
      ]
     },
     "metadata": {},
     "output_type": "display_data"
    }
   ],
   "source": [
    "#Create a plot for the differences between the temporal aggregate series and the annual series, by adjustments (use the dropdown menu)\n",
    "#Create a statistical summary of the results (results_1)\n",
    "\n",
    "def create_figure_summary(choice):\n",
    "    \n",
    "    if choice == 'Unadjusted': vol_adj = 'Volume'\n",
    "    else: vol_adj = 'Volume Cal Adjusted'\n",
    "    \n",
    "    ##Temporally aggregate quarterly series\n",
    "    year_agg = quart_gdp_data.groupby('Year').mean()\n",
    "    \n",
    "    #Dataframe to store results summary\n",
    "    index = [(i,j) for i in ['Not Adjusted','Adjusted','Seas Adjusted'] for j in quart_gdp_data['Accounts','Volume','Not Adjusted'].columns]\n",
    "    criteria = ['Difference in Indices','Difference in monetary terms','Percentage Deviation']\n",
    "    statistics = ['Average','Max']\n",
    "    columns = [(i,j) for i in criteria for j in statistics]\n",
    "    multi_ind =  pd.MultiIndex.from_tuples(index)\n",
    "    multi_col =  pd.MultiIndex.from_tuples(columns)\n",
    "    ##Dataframe\n",
    "    results_1 = pd.DataFrame(index=multi_ind,columns=multi_col)\n",
    "    \n",
    "    #Plot\n",
    "    fig = make_subplots(rows=3,cols=3,subplot_titles=['Not Adjusted','Seas Adjusted','Seas and Cal Adjusted'])\n",
    "    colors = ['blue', 'orange', 'green', 'red', 'purple','magenta' ,'brown', 'gray','purple','yellow','pink', 'olive', 'cyan','silver',\n",
    "         'indigo','orange','green','red']\n",
    "    i=0\n",
    "    for col in quart_gdp_data['Accounts','Volume','Not Adjusted'].columns:\n",
    "        j=0\n",
    "        for adj in ['Not Adjusted','Seas Adjusted','Adjusted']:\n",
    "            #Calculate the absolute difference between the indices\n",
    "            series_diff = abs(year_agg['Accounts','Volume',adj,col]-year_gdp_data['Accounts',vol_adj,col])\n",
    "            #Calculate the absolute difference in monetary terms\n",
    "            series_diff_money = 0.01*series_diff * year_gdp_data.loc[2009,('Accounts','Nominal',col)]\n",
    "            #Calculate the absolute percentage deviation of the temporally aggregated indices from the annual indices\n",
    "            series_dev = 100*series_diff/year_gdp_data['Accounts',vol_adj,col]\n",
    "            #Calculate maximums and means\n",
    "            stats = [(series_diff.mean(),series_diff.max()),(series_diff_money.mean(),series_diff_money.max()),\n",
    "                     (series_dev.mean(),series_dev.max())]\n",
    "            #Create Scatter objects\n",
    "            trace_diff = go.Scatter(x=year_gdp_data.index,y=series_diff,name=col,\n",
    "                                    line=dict(color=colors[i]),legendgroup=f'group{i}',showlegend=(j==0))\n",
    "            trace_diff_money = go.Scatter(x=year_gdp_data.index,y=series_diff_money,name=col,\n",
    "                                    line=dict(color=colors[i]),legendgroup=f'group{i}',showlegend=False)\n",
    "            trace_dev = go.Scatter(x=year_gdp_data.index,y=series_dev,name=col,\n",
    "                                   line=dict(color=colors[i]),legendgroup=f'group{i}',showlegend=False)\n",
    "            Trace = [trace_diff,trace_diff_money,trace_dev]\n",
    "            #Add statistics to dataframe and Scatters to graph\n",
    "            for p in range(len(criteria)):\n",
    "                results_1.loc[(adj,col),(criteria[p],'Average')] = stats[p][0]\n",
    "                results_1.loc[(adj,col),(criteria[p],'Max')] = stats[p][1]\n",
    "                fig.add_trace(Trace[p],row=1+p,col=1+j)\n",
    "\n",
    "            j +=1\n",
    "        i+=1\n",
    "    #Update the layout of the graph\n",
    "    for p in range(len(criteria)): fig.update_yaxes(title=f'Absolute {criteria[p]}'+' %'*(p==2),row=1+p,col=1)\n",
    "    fig.update_layout(width=1250,height=900,title=f'The Difference between Temporally Aggregated Indices and {choice} Annual Indices',title_x=0.4)\n",
    "    #Adjust datatype in the results summary dataframe\n",
    "    results_1=results_1.astype('float64')\n",
    "    \n",
    "    return fig,results_1\n",
    "\n",
    "#Dropdown widget\n",
    "dropdown = widgets.Dropdown(\n",
    "    options=['Unadjusted', 'Calendar Adjusted'],\n",
    "    value='Unadjusted',\n",
    "    description='Adjustment applied to the annual series:',\n",
    "    style={'description_width': 'initial'},\n",
    "    layout=widgets.Layout(width='initial') )\n",
    "#Output widget\n",
    "graph_output = widgets.Output()\n",
    "df_output = widgets.Output()\n",
    "#Function to update the graph\n",
    "def update(change):\n",
    "    with graph_output:\n",
    "        graph_output.clear_output(wait=True)\n",
    "        fig,results_1 = create_figure_summary(change['new'])\n",
    "        fig.show()\n",
    "    with df_output:\n",
    "        df_output.clear_output(wait=True)\n",
    "        display(results_1)\n",
    "# Link the dropdown widget to the update function\n",
    "dropdown.observe(update, names='value')\n",
    "# Display the widgets and initial outputs\n",
    "display(dropdown, graph_output, df_output)\n",
    "# Initialize with the first function\n",
    "update({'new': dropdown.value})"
   ]
  },
  {
   "cell_type": "markdown",
   "id": "7a863600",
   "metadata": {},
   "source": [
    "<a class=\"anchor\" id=\"quart_gdp_agg_check_nom\"></a>\\\n",
    "**2.2.1.2. Values at Current Prices** "
   ]
  },
  {
   "cell_type": "code",
   "execution_count": 535,
   "id": "c03a51b0",
   "metadata": {},
   "outputs": [
    {
     "data": {
      "application/vnd.plotly.v1+json": {
       "config": {
        "plotlyServerURL": "https://plot.ly"
       },
       "data": [
        {
         "legendgroup": "group0",
         "line": {
          "color": "blue"
         },
         "name": "GDP",
         "showlegend": true,
         "type": "scatter",
         "x": [
          1998,
          1999,
          2000,
          2001,
          2002,
          2003,
          2004,
          2005,
          2006,
          2007,
          2008,
          2009,
          2010,
          2011,
          2012,
          2013,
          2014,
          2015,
          2016,
          2017,
          2018,
          2019,
          2020,
          2021,
          2022,
          2023,
          2024
         ],
         "xaxis": "x",
         "y": [
          1.5497207641601562e-06,
          4.112720489501953e-06,
          1.996755599975586e-06,
          3.993511199951172e-06,
          3.4570693969726562e-06,
          3.337860107421875e-06,
          7.271766662597656e-06,
          7.867813110351562e-06,
          1.1920928955078125e-05,
          1.0013580322265625e-05,
          8.225440979003906e-06,
          7.152557373046875e-07,
          9.5367431640625e-07,
          1.430511474609375e-06,
          5.0067901611328125e-06,
          0,
          8.106231689453125e-05,
          0,
          4.76837158203125e-07,
          9.5367431640625e-07,
          0,
          0.00040149688720703125,
          3.814697265625e-06,
          1.9073486328125e-06,
          0.00019073486328125,
          1.1444091796875e-05,
          null
         ],
         "yaxis": "y"
        },
        {
         "legendgroup": "group0",
         "line": {
          "color": "blue"
         },
         "name": "GDP",
         "showlegend": false,
         "type": "scatter",
         "x": [
          1998,
          1999,
          2000,
          2001,
          2002,
          2003,
          2004,
          2005,
          2006,
          2007,
          2008,
          2009,
          2010,
          2011,
          2012,
          2013,
          2014,
          2015,
          2016,
          2017,
          2018,
          2019,
          2020,
          2021,
          2022,
          2023,
          2024
         ],
         "xaxis": "x3",
         "y": [
          2.1540443875938075e-12,
          3.830266739942269e-12,
          1.1643282880722e-12,
          1.6150654958765607e-12,
          9.547023725098016e-13,
          7.069164829366288e-13,
          1.247616323943076e-12,
          1.1565621712861956e-12,
          1.4980612579986864e-12,
          1.1280182192280279e-12,
          8.202829908321263e-13,
          7.1072664483397e-14,
          8.167365997946599e-14,
          1.0182100909894202e-13,
          3.165890515713259e-13,
          0,
          3.944834424548254e-12,
          0,
          1.815443815932497e-14,
          3.043281161971805e-14,
          0,
          9.298623690701508e-12,
          7.555998665779698e-14,
          2.6285989192161695e-14,
          1.270568276224981e-12,
          4.311087068744232e-14,
          null
         ],
         "yaxis": "y3"
        },
        {
         "legendgroup": "group0",
         "line": {
          "color": "blue"
         },
         "name": "GDP",
         "showlegend": false,
         "type": "scatter",
         "x": [
          1998,
          1999,
          2000,
          2001,
          2002,
          2003,
          2004,
          2005,
          2006,
          2007,
          2008,
          2009,
          2010,
          2011,
          2012,
          2013,
          2014,
          2015,
          2016,
          2017,
          2018,
          2019,
          2020,
          2021,
          2022,
          2023,
          2024
         ],
         "xaxis": "x2",
         "y": [
          2.9802322387695312e-08,
          8.940696716308594e-08,
          0,
          2.384185791015625e-07,
          2.980232238769531e-07,
          1.7881393432617188e-07,
          1.1920928955078125e-07,
          0,
          2.384185791015625e-07,
          1.1920928955078125e-07,
          7.152557373046875e-07,
          7.152557373046875e-07,
          1.1920928955078125e-06,
          1.6689300537109375e-06,
          5.0067901611328125e-06,
          2.384185791015625e-07,
          8.20159912109375e-05,
          0,
          4.76837158203125e-07,
          1.9073486328125e-06,
          9.5367431640625e-07,
          0.00039005279541015625,
          1.9073486328125e-06,
          1.1444091796875e-05,
          0.000194549560546875,
          3.814697265625e-06,
          null
         ],
         "yaxis": "y2"
        },
        {
         "legendgroup": "group0",
         "line": {
          "color": "blue"
         },
         "name": "GDP",
         "showlegend": false,
         "type": "scatter",
         "x": [
          1998,
          1999,
          2000,
          2001,
          2002,
          2003,
          2004,
          2005,
          2006,
          2007,
          2008,
          2009,
          2010,
          2011,
          2012,
          2013,
          2014,
          2015,
          2016,
          2017,
          2018,
          2019,
          2020,
          2021,
          2022,
          2023,
          2024
         ],
         "xaxis": "x4",
         "y": [
          4.142393053065014e-14,
          8.326666825961454e-14,
          0,
          9.642182064934691e-14,
          8.230192866463806e-14,
          3.787052587160512e-14,
          2.045272662201764e-14,
          0,
          2.996122515997373e-14,
          1.342878832414319e-14,
          7.132895572453271e-14,
          7.1072664483397e-14,
          1.020920749743325e-13,
          1.18791177282099e-13,
          3.165890515713259e-13,
          1.3075299307312269e-14,
          3.991244241307646e-12,
          0,
          1.815443815932497e-14,
          6.08656232394361e-14,
          2.5355818612152665e-14,
          9.033579785028306e-12,
          3.777999332889849e-14,
          1.5771593515297017e-13,
          1.2959796417494807e-12,
          1.437029022914744e-14,
          null
         ],
         "yaxis": "y4"
        },
        {
         "legendgroup": "group1",
         "line": {
          "color": "orange"
         },
         "name": "Final Consumption Expenditure of Households",
         "showlegend": true,
         "type": "scatter",
         "x": [
          1998,
          1999,
          2000,
          2001,
          2002,
          2003,
          2004,
          2005,
          2006,
          2007,
          2008,
          2009,
          2010,
          2011,
          2012,
          2013,
          2014,
          2015,
          2016,
          2017,
          2018,
          2019,
          2020,
          2021,
          2022,
          2023,
          2024
         ],
         "xaxis": "x",
         "y": [
          9.313225746154785e-07,
          1.4603137969970703e-06,
          2.384185791015625e-07,
          1.5497207641601562e-06,
          4.172325134277344e-07,
          1.1920928955078125e-07,
          8.344650268554688e-07,
          1.3113021850585938e-06,
          3.0994415283203125e-06,
          2.0265579223632812e-06,
          9.5367431640625e-07,
          3.6954879760742188e-06,
          2.7418136596679688e-06,
          1.3113021850585938e-06,
          2.7418136596679688e-06,
          1.1920928955078125e-06,
          0,
          9.5367431640625e-07,
          7.152557373046875e-07,
          9.5367431640625e-07,
          4.76837158203125e-07,
          4.76837158203125e-07,
          0,
          0,
          9.5367431640625e-07,
          1.9073486328125e-06,
          null
         ],
         "yaxis": "y"
        },
        {
         "legendgroup": "group1",
         "line": {
          "color": "orange"
         },
         "name": "Final Consumption Expenditure of Households",
         "showlegend": false,
         "type": "scatter",
         "x": [
          1998,
          1999,
          2000,
          2001,
          2002,
          2003,
          2004,
          2005,
          2006,
          2007,
          2008,
          2009,
          2010,
          2011,
          2012,
          2013,
          2014,
          2015,
          2016,
          2017,
          2018,
          2019,
          2020,
          2021,
          2022,
          2023,
          2024
         ],
         "xaxis": "x3",
         "y": [
          2.0149475582155774e-12,
          2.069603983328283e-12,
          2.0873229130439856e-13,
          9.714994572852318e-13,
          1.815476673031887e-13,
          3.8899297381586924e-14,
          2.2393502738043212e-13,
          3.0556307145417446e-13,
          6.343693861293426e-13,
          3.696404605515789e-13,
          1.565139478695445e-13,
          5.996555676295598e-13,
          3.7634232729948846e-13,
          1.4953980799754938e-13,
          2.8122221962117634e-13,
          1.0703799895078885e-13,
          0,
          6.792720787370233e-14,
          4.6090401515034505e-14,
          5.221212373369419e-14,
          2.2705062347723893e-14,
          1.9528439585707282e-14,
          0,
          0,
          1.1136306852932199e-14,
          1.2154411644463566e-14,
          null
         ],
         "yaxis": "y3"
        },
        {
         "legendgroup": "group1",
         "line": {
          "color": "orange"
         },
         "name": "Final Consumption Expenditure of Households",
         "showlegend": false,
         "type": "scatter",
         "x": [
          1998,
          1999,
          2000,
          2001,
          2002,
          2003,
          2004,
          2005,
          2006,
          2007,
          2008,
          2009,
          2010,
          2011,
          2012,
          2013,
          2014,
          2015,
          2016,
          2017,
          2018,
          2019,
          2020,
          2021,
          2022,
          2023,
          2024
         ],
         "xaxis": "x2",
         "y": [
          1.8030405044555664e-05,
          3.997981548309326e-05,
          2.637505531311035e-06,
          2.0116567611694336e-05,
          0.00010499358177185059,
          6.759166717529297e-05,
          1.055002212524414e-05,
          8.726119995117188e-05,
          1.5497207641601562e-05,
          3.314018249511719e-05,
          0.00010478496551513672,
          2.2530555725097656e-05,
          0.00010395050048828125,
          1.728534698486328e-05,
          8.809566497802734e-05,
          7.963180541992188e-05,
          5.936622619628906e-05,
          6.699562072753906e-05,
          5.5789947509765625e-05,
          0.0001087188720703125,
          0.0001583099365234375,
          0.0002522468566894531,
          0.00012874603271484375,
          6.580352783203125e-05,
          9.918212890625e-05,
          0.0002346038818359375,
          null
         ],
         "yaxis": "y2"
        },
        {
         "legendgroup": "group1",
         "line": {
          "color": "orange"
         },
         "name": "Final Consumption Expenditure of Households",
         "showlegend": false,
         "type": "scatter",
         "x": [
          1998,
          1999,
          2000,
          2001,
          2002,
          2003,
          2004,
          2005,
          2006,
          2007,
          2008,
          2009,
          2010,
          2011,
          2012,
          2013,
          2014,
          2015,
          2016,
          2017,
          2018,
          2019,
          2020,
          2021,
          2022,
          2023,
          2024
         ],
         "xaxis": "x4",
         "y": [
          3.900938472705358e-11,
          5.666068864561003e-11,
          2.309100972554909e-12,
          1.2610810262837145e-11,
          4.568517370779527e-11,
          2.2055901615359786e-11,
          2.831178560452606e-12,
          2.0333833482223244e-11,
          3.1718469306467132e-12,
          6.044708707843466e-12,
          1.7196970022166203e-11,
          3.65596458974151e-12,
          1.4268283017615388e-11,
          1.9712065599676965e-12,
          9.035792186958665e-12,
          7.150138329912696e-12,
          4.806069201714636e-12,
          4.7718863531275886e-12,
          3.5950513181726916e-12,
          5.952182105641138e-12,
          7.538080699444333e-12,
          1.0330544540839153e-11,
          4.5223207162312826e-12,
          1.6519265362905208e-12,
          1.1581759127049486e-12,
          1.4949926322690186e-12,
          null
         ],
         "yaxis": "y4"
        },
        {
         "legendgroup": "group2",
         "line": {
          "color": "green"
         },
         "name": "Final Consumption Expenditure Of Npish",
         "showlegend": true,
         "type": "scatter",
         "x": [
          1998,
          1999,
          2000,
          2001,
          2002,
          2003,
          2004,
          2005,
          2006,
          2007,
          2008,
          2009,
          2010,
          2011,
          2012,
          2013,
          2014,
          2015,
          2016,
          2017,
          2018,
          2019,
          2020,
          2021,
          2022,
          2023,
          2024
         ],
         "xaxis": "x",
         "y": [
          2.6193447411060333e-10,
          5.820766091346741e-10,
          5.820766091346741e-10,
          5.820766091346741e-10,
          1.1641532182693481e-09,
          1.1641532182693481e-09,
          4.656612873077393e-10,
          1.3969838619232178e-09,
          4.656612873077393e-10,
          0,
          4.656612873077393e-10,
          9.313225746154785e-10,
          4.656612873077393e-10,
          1.0710209608078003e-08,
          9.313225746154785e-10,
          2.7939677238464355e-09,
          2.3283064365386963e-08,
          2.8870999813079834e-08,
          3.5390257835388184e-08,
          0,
          0,
          1.862645149230957e-09,
          7.450580596923828e-09,
          3.725290298461914e-09,
          7.450580596923828e-09,
          0,
          null
         ],
         "yaxis": "y"
        },
        {
         "legendgroup": "group2",
         "line": {
          "color": "green"
         },
         "name": "Final Consumption Expenditure Of Npish",
         "showlegend": false,
         "type": "scatter",
         "x": [
          1998,
          1999,
          2000,
          2001,
          2002,
          2003,
          2004,
          2005,
          2006,
          2007,
          2008,
          2009,
          2010,
          2011,
          2012,
          2013,
          2014,
          2015,
          2016,
          2017,
          2018,
          2019,
          2020,
          2021,
          2022,
          2023,
          2024
         ],
         "xaxis": "x3",
         "y": [
          1.1232260168077389e-13,
          1.6861786004549572e-13,
          9.951367415922652e-14,
          7.279012204688347e-14,
          8.881300663803592e-14,
          6.011005573611542e-14,
          2.3083828670068686e-14,
          6.486785128065368e-14,
          1.839823286678433e-14,
          0,
          1.4712460207002248e-14,
          2.75546472113031e-14,
          1.3944315662771047e-14,
          2.561167031838366e-13,
          2.2541916264734828e-14,
          6.792077965967248e-14,
          4.425123752178867e-13,
          4.06187030531634e-13,
          4.143172185094266e-13,
          0,
          0,
          1.2503910387062108e-14,
          3.9065768433170045e-14,
          1.4767479032096055e-14,
          1.89174588575369e-14,
          0,
          null
         ],
         "yaxis": "y3"
        },
        {
         "legendgroup": "group2",
         "line": {
          "color": "green"
         },
         "name": "Final Consumption Expenditure Of Npish",
         "showlegend": false,
         "type": "scatter",
         "x": [
          1998,
          1999,
          2000,
          2001,
          2002,
          2003,
          2004,
          2005,
          2006,
          2007,
          2008,
          2009,
          2010,
          2011,
          2012,
          2013,
          2014,
          2015,
          2016,
          2017,
          2018,
          2019,
          2020,
          2021,
          2022,
          2023,
          2024
         ],
         "xaxis": "x2",
         "y": [
          1.6324338503181934e-06,
          0.00010448123794049025,
          5.945248994976282e-05,
          4.462699871510267e-05,
          0.00015858258120715618,
          3.777584061026573e-05,
          4.195142537355423e-06,
          1.1566095054149628e-05,
          6.1853788793087006e-06,
          5.78584149479866e-06,
          7.525086402893066e-06,
          7.501803338527679e-07,
          1.1589843779802322e-05,
          1.7564743757247925e-05,
          2.7567148208618164e-07,
          6.454065442085266e-07,
          1.2433156371116638e-06,
          8.745118975639343e-07,
          1.73225998878479e-06,
          0.000214478000998497,
          0.00013983435928821564,
          9.283609688282013e-05,
          8.341297507286072e-05,
          1.3560056686401367e-06,
          0.0003851279616355896,
          0.0006761401891708374,
          null
         ],
         "yaxis": "y2"
        },
        {
         "legendgroup": "group2",
         "line": {
          "color": "green"
         },
         "name": "Final Consumption Expenditure Of Npish",
         "showlegend": false,
         "type": "scatter",
         "x": [
          1998,
          1999,
          2000,
          2001,
          2002,
          2003,
          2004,
          2005,
          2006,
          2007,
          2008,
          2009,
          2010,
          2011,
          2012,
          2013,
          2014,
          2015,
          2016,
          2017,
          2018,
          2019,
          2020,
          2021,
          2022,
          2023,
          2024
         ],
         "xaxis": "x4",
         "y": [
          7.000194142527341e-10,
          3.0266467471730364e-08,
          1.0164187359479573e-08,
          5.58071675116369e-09,
          1.2098232102442545e-08,
          1.9505232205923563e-09,
          2.079622124886488e-10,
          5.370625633696254e-10,
          2.4438372716949626e-10,
          2.0321721661047857e-10,
          2.377533569451563e-10,
          2.2195268328704648e-11,
          3.470600725307086e-10,
          4.2003139322149205e-10,
          6.672407214361509e-12,
          1.5689700101384343e-11,
          2.363016083663515e-11,
          1.2303536182877558e-11,
          2.0279737537566673e-11,
          2.125652991260958e-09,
          1.079735596991988e-09,
          6.232073976015626e-10,
          4.3736081049355527e-10,
          5.375362367682964e-12,
          9.778623658049399e-10,
          9.52612377396458e-10,
          null
         ],
         "yaxis": "y4"
        },
        {
         "legendgroup": "group3",
         "line": {
          "color": "red"
         },
         "name": "Government Final Consumption Expenditure",
         "showlegend": true,
         "type": "scatter",
         "x": [
          1998,
          1999,
          2000,
          2001,
          2002,
          2003,
          2004,
          2005,
          2006,
          2007,
          2008,
          2009,
          2010,
          2011,
          2012,
          2013,
          2014,
          2015,
          2016,
          2017,
          2018,
          2019,
          2020,
          2021,
          2022,
          2023,
          2024
         ],
         "xaxis": "x",
         "y": [
          9.313225746154785e-10,
          1.862645149230957e-09,
          0,
          7.450580596923828e-09,
          0,
          7.450580596923828e-09,
          0,
          0,
          1.4901161193847656e-08,
          1.4901161193847656e-08,
          0,
          0,
          0,
          0,
          2.9802322387695312e-08,
          0,
          5.960464477539063e-08,
          1.1920928955078125e-07,
          1.1920928955078125e-07,
          5.960464477539063e-08,
          0,
          1.1920928955078125e-07,
          1.1920928955078125e-07,
          0,
          4.76837158203125e-07,
          9.5367431640625e-07,
          null
         ],
         "yaxis": "y"
        },
        {
         "legendgroup": "group3",
         "line": {
          "color": "red"
         },
         "name": "Government Final Consumption Expenditure",
         "showlegend": false,
         "type": "scatter",
         "x": [
          1998,
          1999,
          2000,
          2001,
          2002,
          2003,
          2004,
          2005,
          2006,
          2007,
          2008,
          2009,
          2010,
          2011,
          2012,
          2013,
          2014,
          2015,
          2016,
          2017,
          2018,
          2019,
          2020,
          2021,
          2022,
          2023,
          2024
         ],
         "xaxis": "x3",
         "y": [
          1.2197028249711535e-14,
          1.3693126596165357e-14,
          0,
          2.3827302589791424e-14,
          0,
          1.2532852136185669e-14,
          0,
          0,
          1.4507631639816814e-14,
          1.2536499959303786e-14,
          0,
          0,
          0,
          0,
          1.334023960332308e-14,
          0,
          2.0689142196579507e-14,
          3.673046867655584e-14,
          3.08052937794118e-14,
          1.3226821574945142e-14,
          0,
          1.80792567286337e-14,
          1.5748475750703033e-14,
          0,
          2.7257896495296627e-14,
          2.742870893534746e-14,
          null
         ],
         "yaxis": "y3"
        },
        {
         "legendgroup": "group3",
         "line": {
          "color": "red"
         },
         "name": "Government Final Consumption Expenditure",
         "showlegend": false,
         "type": "scatter",
         "x": [
          1998,
          1999,
          2000,
          2001,
          2002,
          2003,
          2004,
          2005,
          2006,
          2007,
          2008,
          2009,
          2010,
          2011,
          2012,
          2013,
          2014,
          2015,
          2016,
          2017,
          2018,
          2019,
          2020,
          2021,
          2022,
          2023,
          2024
         ],
         "xaxis": "x2",
         "y": [
          1.0617077350616455e-06,
          0.00011607073247432709,
          3.1031668186187744e-05,
          2.2605061531066895e-05,
          7.849931716918945e-05,
          0.00022629648447036743,
          0.00012573599815368652,
          7.152557373046875e-05,
          0.00010187923908233643,
          6.115436553955078e-05,
          0.0001245439052581787,
          0.00010761618614196777,
          0.00013309717178344727,
          9.804964065551758e-05,
          7.668137550354004e-05,
          0.0001068115234375,
          2.2649765014648438e-06,
          0.00022780895233154297,
          0.0001640915870666504,
          0.00024384260177612305,
          3.0279159545898438e-05,
          0.0002557039260864258,
          0.00027751922607421875,
          0.00019466876983642578,
          1.4543533325195312e-05,
          5.5789947509765625e-05,
          null
         ],
         "yaxis": "y2"
        },
        {
         "legendgroup": "group3",
         "line": {
          "color": "red"
         },
         "name": "Government Final Consumption Expenditure",
         "showlegend": false,
         "type": "scatter",
         "x": [
          1998,
          1999,
          2000,
          2001,
          2002,
          2003,
          2004,
          2005,
          2006,
          2007,
          2008,
          2009,
          2010,
          2011,
          2012,
          2013,
          2014,
          2015,
          2016,
          2017,
          2018,
          2019,
          2020,
          2021,
          2022,
          2023,
          2024
         ],
         "xaxis": "x4",
         "y": [
          1.390461220467115e-11,
          8.532871838400441e-10,
          1.5169249772574827e-10,
          7.229203605742718e-11,
          1.6889133761568117e-10,
          3.8066031793236733e-10,
          1.7516981036283195e-10,
          8.628116923618896e-11,
          9.918867752142756e-11,
          5.144979583298274e-11,
          9.134956736496049e-11,
          6.829461395486986e-11,
          7.663138792267313e-11,
          5.1314701540071e-11,
          3.4324436499350285e-11,
          4.178608455144689e-11,
          7.861874034700212e-13,
          7.019192564089822e-11,
          4.240348688736035e-11,
          5.4110927063100575e-11,
          5.5486473047425745e-12,
          3.878000568291929e-11,
          3.666245154763667e-11,
          2.0724048067991634e-11,
          8.313658431065471e-13,
          1.6045794727178266e-12,
          null
         ],
         "yaxis": "y4"
        },
        {
         "legendgroup": "group4",
         "line": {
          "color": "purple"
         },
         "name": "Gross Fixed Capital Formation",
         "showlegend": true,
         "type": "scatter",
         "x": [
          1998,
          1999,
          2000,
          2001,
          2002,
          2003,
          2004,
          2005,
          2006,
          2007,
          2008,
          2009,
          2010,
          2011,
          2012,
          2013,
          2014,
          2015,
          2016,
          2017,
          2018,
          2019,
          2020,
          2021,
          2022,
          2023,
          2024
         ],
         "xaxis": "x",
         "y": [
          3.688037395477295e-07,
          1.948326826095581e-06,
          1.2367963790893555e-06,
          2.898275852203369e-06,
          3.2186508178710938e-06,
          3.7997961044311523e-06,
          5.781650543212891e-06,
          6.139278411865234e-06,
          6.854534149169922e-06,
          6.467103958129883e-06,
          6.4373016357421875e-06,
          1.4901161193847656e-07,
          1.1324882507324219e-06,
          7.748603820800781e-07,
          4.76837158203125e-07,
          0,
          2.384185791015625e-07,
          0,
          2.384185791015625e-07,
          2.384185791015625e-07,
          2.384185791015625e-07,
          0,
          0,
          0,
          0.000194549560546875,
          0,
          null
         ],
         "yaxis": "y"
        },
        {
         "legendgroup": "group4",
         "line": {
          "color": "purple"
         },
         "name": "Gross Fixed Capital Formation",
         "showlegend": false,
         "type": "scatter",
         "x": [
          1998,
          1999,
          2000,
          2001,
          2002,
          2003,
          2004,
          2005,
          2006,
          2007,
          2008,
          2009,
          2010,
          2011,
          2012,
          2013,
          2014,
          2015,
          2016,
          2017,
          2018,
          2019,
          2020,
          2021,
          2022,
          2023,
          2024
         ],
         "xaxis": "x3",
         "y": [
          2.185833512033513e-12,
          9.127227536921899e-12,
          3.2469361525711e-12,
          6.529846861189386e-12,
          4.564183390787696e-12,
          3.891784615056662e-12,
          3.939755549107408e-12,
          3.4171023783642564e-12,
          3.025498282738837e-12,
          2.6123101902374948e-12,
          2.408719726646683e-12,
          6.660909640858819e-14,
          3.9369054216481693e-13,
          1.987923580914861e-13,
          1.1143054418325787e-13,
          0,
          4.036235478708985e-14,
          0,
          3.118436962297628e-14,
          2.5482017482568798e-14,
          2.1295275176376516e-14,
          0,
          0,
          0,
          4.443929015265699e-12,
          0,
          null
         ],
         "yaxis": "y3"
        },
        {
         "legendgroup": "group4",
         "line": {
          "color": "purple"
         },
         "name": "Gross Fixed Capital Formation",
         "showlegend": false,
         "type": "scatter",
         "x": [
          1998,
          1999,
          2000,
          2001,
          2002,
          2003,
          2004,
          2005,
          2006,
          2007,
          2008,
          2009,
          2010,
          2011,
          2012,
          2013,
          2014,
          2015,
          2016,
          2017,
          2018,
          2019,
          2020,
          2021,
          2022,
          2023,
          2024
         ],
         "xaxis": "x2",
         "y": [
          1.548975706100464e-05,
          3.416091203689575e-06,
          3.16128134727478e-05,
          1.8998980522155762e-06,
          4.4092535972595215e-05,
          8.392333984375e-05,
          7.69495964050293e-05,
          1.4275312423706055e-05,
          1.7940998077392578e-05,
          2.47955322265625e-05,
          1.8894672393798828e-05,
          4.9620866775512695e-05,
          4.6372413635253906e-05,
          4.887580871582031e-06,
          4.166364669799805e-05,
          6.556510925292969e-07,
          4.9948692321777344e-05,
          1.8596649169921875e-05,
          7.140636444091797e-05,
          6.341934204101562e-05,
          1.6450881958007812e-05,
          8.58306884765625e-05,
          9.751319885253906e-05,
          2.3603439331054688e-05,
          8.0108642578125e-05,
          0.00016880035400390625,
          null
         ],
         "yaxis": "y2"
        },
        {
         "legendgroup": "group4",
         "line": {
          "color": "purple"
         },
         "name": "Gross Fixed Capital Formation",
         "showlegend": false,
         "type": "scatter",
         "x": [
          1998,
          1999,
          2000,
          2001,
          2002,
          2003,
          2004,
          2005,
          2006,
          2007,
          2008,
          2009,
          2010,
          2011,
          2012,
          2013,
          2014,
          2015,
          2016,
          2017,
          2018,
          2019,
          2020,
          2021,
          2022,
          2023,
          2024
         ],
         "xaxis": "x4",
         "y": [
          9.180500750540755e-11,
          1.6003188625922336e-11,
          8.299247045397094e-11,
          4.280490873016179e-12,
          6.252508635805924e-11,
          8.595502334117303e-11,
          5.243530323605839e-11,
          7.945592423478052e-12,
          7.918912896559912e-12,
          1.0015862111878322e-11,
          7.070038456916652e-12,
          2.2180829104059865e-11,
          1.6120591673906714e-11,
          1.2539210279616816e-12,
          9.736243798012156e-12,
          1.2684845007689054e-13,
          8.455913327895324e-12,
          2.6765065624282763e-12,
          9.339718702081397e-12,
          6.7782166503633006e-12,
          1.4693739871699795e-12,
          7.652083469244622e-12,
          7.01797134191658e-12,
          1.1546351749034724e-12,
          1.829853123932935e-12,
          1.9960844433217778e-12,
          null
         ],
         "yaxis": "y4"
        },
        {
         "legendgroup": "group5",
         "line": {
          "color": "magenta"
         },
         "name": "Change In stocks",
         "showlegend": true,
         "type": "scatter",
         "x": [
          1998,
          1999,
          2000,
          2001,
          2002,
          2003,
          2004,
          2005,
          2006,
          2007,
          2008,
          2009,
          2010,
          2011,
          2012,
          2013,
          2014,
          2015,
          2016,
          2017,
          2018,
          2019,
          2020,
          2021,
          2022,
          2023,
          2024
         ],
         "xaxis": "x",
         "y": [
          1.2852251529693604e-07,
          1.2828968465328217e-07,
          6.332993507385254e-08,
          4.981702659279108e-07,
          4.3958425521850586e-07,
          7.245689630508423e-07,
          1.3085082173347473e-07,
          2.2957101464271545e-07,
          6.984919309616089e-08,
          2.5797635316848755e-07,
          1.341104507446289e-07,
          5.929730832576752e-06,
          3.8333237171173096e-06,
          2.5704503059387207e-06,
          7.3481351137161255e-06,
          2.771615982055664e-06,
          8.574221283197403e-05,
          3.6135315895080566e-07,
          3.8743019104003906e-07,
          4.470348358154297e-07,
          6.221234798431396e-07,
          0.00039949268102645874,
          4.1425228118896484e-06,
          3.2782554626464844e-06,
          1.0728836059570312e-06,
          1.5497207641601562e-06,
          null
         ],
         "yaxis": "y"
        },
        {
         "legendgroup": "group5",
         "line": {
          "color": "magenta"
         },
         "name": "Change In stocks",
         "showlegend": false,
         "type": "scatter",
         "x": [
          1998,
          1999,
          2000,
          2001,
          2002,
          2003,
          2004,
          2005,
          2006,
          2007,
          2008,
          2009,
          2010,
          2011,
          2012,
          2013,
          2014,
          2015,
          2016,
          2017,
          2018,
          2019,
          2020,
          2021,
          2022,
          2023,
          2024
         ],
         "xaxis": "x3",
         "y": [
          4.1653214086402925e-11,
          8.191255213284095e-12,
          2.450693053977177e-12,
          2.681856058808749e-10,
          7.434368758936773e-12,
          9.411596526378457e-12,
          1.1429210590477777e-11,
          8.581360820693005e-12,
          9.999190403197635e-13,
          4.0709645122702676e-12,
          6.406834911235151e-13,
          1.0038813334169324e-10,
          1.550690849262047e-11,
          5.613493277537373e-12,
          4.580205068931411e-11,
          1.1940525558076347e-11,
          1.8818136559013444e-09,
          1.1340548086637293e-12,
          1.3549584788434459e-12,
          1.7041976576582461e-12,
          5.3578866984246325e-12,
          8.414554130422173e-10,
          2.1489062444086717e-12,
          1.3978624587626922e-12,
          1.216084149251901e-13,
          3.0848247724072957e-13,
          null
         ],
         "yaxis": "y3"
        },
        {
         "legendgroup": "group5",
         "line": {
          "color": "magenta"
         },
         "name": "Change In stocks",
         "showlegend": false,
         "type": "scatter",
         "x": [
          1998,
          1999,
          2000,
          2001,
          2002,
          2003,
          2004,
          2005,
          2006,
          2007,
          2008,
          2009,
          2010,
          2011,
          2012,
          2013,
          2014,
          2015,
          2016,
          2017,
          2018,
          2019,
          2020,
          2021,
          2022,
          2023,
          2024
         ],
         "xaxis": "x2",
         "y": [
          5.553592927753925e-06,
          0.00014603720046579838,
          5.747796967625618e-05,
          8.897486259229481e-05,
          0.0004762895405292511,
          0.0009713275358080864,
          0.0003272618632763624,
          8.08127224445343e-05,
          0.0001493506133556366,
          0.0001385742798447609,
          0.00021549314260482788,
          0.0005258293822407722,
          0.000787634402513504,
          0.0002061203122138977,
          6.695464253425598e-05,
          0.0002957955002784729,
          1.9700266420841217e-05,
          0.00045610591769218445,
          0.0005899742245674133,
          0.0007020421326160431,
          0.00020337477326393127,
          0.00042819976806640625,
          0.001438230276107788,
          0.0005511045455932617,
          6.854534149169922e-05,
          0.00024777650833129883,
          null
         ],
         "yaxis": "y2"
        },
        {
         "legendgroup": "group5",
         "line": {
          "color": "magenta"
         },
         "name": "Change In stocks",
         "showlegend": false,
         "type": "scatter",
         "x": [
          1998,
          1999,
          2000,
          2001,
          2002,
          2003,
          2004,
          2005,
          2006,
          2007,
          2008,
          2009,
          2010,
          2011,
          2012,
          2013,
          2014,
          2015,
          2016,
          2017,
          2018,
          2019,
          2020,
          2021,
          2022,
          2023,
          2024
         ],
         "xaxis": "x4",
         "y": [
          1.7998791467317496e-09,
          9.324428404994767e-09,
          2.2242382039085653e-09,
          4.7898839140943764e-08,
          8.055138550307993e-09,
          1.261680161332782e-08,
          2.8584801410236946e-08,
          3.0207782601751457e-09,
          2.1380135597578473e-09,
          2.1867545944918047e-09,
          1.0294715896536349e-09,
          8.90209549636983e-09,
          3.1862100638350374e-09,
          4.5013707687846793e-10,
          4.1733853335312674e-10,
          1.2743301214548093e-09,
          4.323684816518887e-10,
          1.4314226855540589e-09,
          2.0633151374465047e-09,
          2.6763430098222454e-09,
          1.7515156199227303e-09,
          9.019214364005728e-10,
          7.460724204958135e-10,
          2.3499338715854277e-10,
          7.769426509109368e-12,
          4.9321602226527416e-11,
          null
         ],
         "yaxis": "y4"
        },
        {
         "legendgroup": "group6",
         "line": {
          "color": "brown"
         },
         "name": "Exports Of Goods And Services",
         "showlegend": true,
         "type": "scatter",
         "x": [
          1998,
          1999,
          2000,
          2001,
          2002,
          2003,
          2004,
          2005,
          2006,
          2007,
          2008,
          2009,
          2010,
          2011,
          2012,
          2013,
          2014,
          2015,
          2016,
          2017,
          2018,
          2019,
          2020,
          2021,
          2022,
          2023,
          2024
         ],
         "xaxis": "x",
         "y": [
          3.0547380447387695e-07,
          2.4586915969848633e-07,
          4.991888999938965e-07,
          7.450580596923828e-08,
          1.6391277313232422e-07,
          1.6391277313232422e-07,
          3.2782554626464844e-07,
          1.1920928955078125e-07,
          5.960464477539062e-07,
          2.086162567138672e-07,
          1.4901161193847656e-07,
          5.960464477539062e-07,
          4.172325134277344e-07,
          5.960464477539062e-07,
          5.364418029785156e-07,
          0,
          1.7881393432617188e-07,
          2.384185791015625e-07,
          3.5762786865234375e-07,
          1.1920928955078125e-07,
          9.5367431640625e-07,
          2.384185791015625e-07,
          7.152557373046875e-07,
          1.9073486328125e-06,
          2.86102294921875e-06,
          9.5367431640625e-07,
          null
         ],
         "yaxis": "y"
        },
        {
         "legendgroup": "group6",
         "line": {
          "color": "brown"
         },
         "name": "Exports Of Goods And Services",
         "showlegend": false,
         "type": "scatter",
         "x": [
          1998,
          1999,
          2000,
          2001,
          2002,
          2003,
          2004,
          2005,
          2006,
          2007,
          2008,
          2009,
          2010,
          2011,
          2012,
          2013,
          2014,
          2015,
          2016,
          2017,
          2018,
          2019,
          2020,
          2021,
          2022,
          2023,
          2024
         ],
         "xaxis": "x3",
         "y": [
          2.054536749685834e-12,
          1.2172898967765267e-12,
          1.4641072380662662e-12,
          1.108523412053185e-13,
          1.8030609908682016e-13,
          1.5089272486166415e-13,
          2.3807655342076413e-13,
          8.010356068551187e-14,
          3.344658107434898e-13,
          1.0735901677199282e-13,
          6.30570128921322e-14,
          2.534305336216215e-13,
          1.6859489232197253e-13,
          1.845088791239735e-13,
          1.3924070791069006e-13,
          0,
          3.452352163622819e-14,
          4.134072984063044e-14,
          5.898508992403106e-14,
          1.4609008610100293e-14,
          8.118357256816173e-14,
          1.6695023172529157e-14,
          4.865080037350682e-14,
          7.35402100386061e-14,
          4.9394630615660105e-14,
          1.1256395076537178e-14,
          null
         ],
         "yaxis": "y3"
        },
        {
         "legendgroup": "group6",
         "line": {
          "color": "brown"
         },
         "name": "Exports Of Goods And Services",
         "showlegend": false,
         "type": "scatter",
         "x": [
          1998,
          1999,
          2000,
          2001,
          2002,
          2003,
          2004,
          2005,
          2006,
          2007,
          2008,
          2009,
          2010,
          2011,
          2012,
          2013,
          2014,
          2015,
          2016,
          2017,
          2018,
          2019,
          2020,
          2021,
          2022,
          2023,
          2024
         ],
         "xaxis": "x2",
         "y": [
          1.5189871191978455e-05,
          5.680695176124573e-05,
          1.7471611499786377e-05,
          5.8323144912719727e-05,
          0.00010786950588226318,
          8.83936882019043e-05,
          8.803606033325195e-05,
          8.881092071533203e-06,
          1.2546777725219727e-05,
          3.984570503234863e-05,
          1.3440847396850586e-05,
          7.784366607666016e-05,
          6.67273998260498e-05,
          1.5735626220703125e-05,
          3.826618194580078e-05,
          5.1975250244140625e-05,
          7.927417755126953e-05,
          2.9087066650390625e-05,
          0.0001062154769897461,
          2.562999725341797e-05,
          5.841255187988281e-05,
          1.430511474609375e-06,
          6.556510925292969e-05,
          0.00012111663818359375,
          5.054473876953125e-05,
          7.82012939453125e-05,
          null
         ],
         "yaxis": "y2"
        },
        {
         "legendgroup": "group6",
         "line": {
          "color": "brown"
         },
         "name": "Exports Of Goods And Services",
         "showlegend": false,
         "type": "scatter",
         "x": [
          1998,
          1999,
          2000,
          2001,
          2002,
          2003,
          2004,
          2005,
          2006,
          2007,
          2008,
          2009,
          2010,
          2011,
          2012,
          2013,
          2014,
          2015,
          2016,
          2017,
          2018,
          2019,
          2020,
          2021,
          2022,
          2023,
          2024
         ],
         "xaxis": "x4",
         "y": [
          1.0216309264443888e-10,
          2.8124929751432207e-10,
          5.124375333231932e-11,
          8.677521269552331e-11,
          1.1865780466268102e-10,
          8.137233126176288e-11,
          6.39343762549943e-11,
          5.9677152710706344e-12,
          7.04050531615046e-12,
          2.0505572203450628e-11,
          5.6877425628703245e-12,
          3.3098027690983766e-11,
          2.6963140279206893e-11,
          4.8710344088729e-12,
          9.932503830962557e-12,
          1.198005342031414e-11,
          1.5305427925394497e-11,
          5.043569040556913e-12,
          1.7518571707437227e-11,
          3.1409368511715627e-12,
          4.972493819799907e-12,
          1.0017013903517494e-13,
          4.459656700904792e-12,
          4.669803337451487e-12,
          8.726384742099952e-13,
          9.230243962760486e-13,
          null
         ],
         "yaxis": "y4"
        },
        {
         "legendgroup": "group7",
         "line": {
          "color": "gray"
         },
         "name": "Imports Of Goods And Services",
         "showlegend": true,
         "type": "scatter",
         "x": [
          1998,
          1999,
          2000,
          2001,
          2002,
          2003,
          2004,
          2005,
          2006,
          2007,
          2008,
          2009,
          2010,
          2011,
          2012,
          2013,
          2014,
          2015,
          2016,
          2017,
          2018,
          2019,
          2020,
          2021,
          2022,
          2023,
          2024
         ],
         "xaxis": "x",
         "y": [
          1.73225998878479e-07,
          3.0919909477233887e-07,
          1.2665987014770508e-07,
          6.705522537231445e-08,
          1.4901161193847656e-07,
          2.5331974029541016e-07,
          6.556510925292969e-07,
          4.76837158203125e-07,
          1.3113021850585938e-06,
          9.834766387939453e-07,
          7.152557373046875e-07,
          8.940696716308594e-07,
          5.960464477539062e-07,
          2.384185791015625e-07,
          7.152557373046875e-07,
          5.960464477539063e-08,
          1.1920928955078125e-07,
          1.1920928955078125e-07,
          1.1920928955078125e-07,
          2.384185791015625e-07,
          7.152557373046875e-07,
          1.430511474609375e-06,
          2.384185791015625e-07,
          9.5367431640625e-07,
          4.76837158203125e-06,
          5.7220458984375e-06,
          null
         ],
         "yaxis": "y"
        },
        {
         "legendgroup": "group7",
         "line": {
          "color": "gray"
         },
         "name": "Imports Of Goods And Services",
         "showlegend": false,
         "type": "scatter",
         "x": [
          1998,
          1999,
          2000,
          2001,
          2002,
          2003,
          2004,
          2005,
          2006,
          2007,
          2008,
          2009,
          2010,
          2011,
          2012,
          2013,
          2014,
          2015,
          2016,
          2017,
          2018,
          2019,
          2020,
          2021,
          2022,
          2023,
          2024
         ],
         "xaxis": "x3",
         "y": [
          1.2204084847293864e-12,
          1.5273350454044331e-12,
          3.2864264900826726e-13,
          1.1952047123077324e-13,
          1.7987703648283678e-13,
          2.310611874859522e-13,
          4.463696572071503e-13,
          2.8885856161762853e-13,
          6.249488256547446e-13,
          4.267411179946717e-13,
          2.6435791869045063e-13,
          3.793881887182456e-13,
          2.001779336386981e-13,
          5.598780133874189e-14,
          1.5885887994851471e-13,
          1.1376042029097413e-14,
          2.031187966670258e-14,
          1.9093473308956373e-14,
          1.797848125114605e-14,
          2.559724058158278e-14,
          6.059892114972999e-14,
          1.0999835214892266e-13,
          1.4655693788886736e-14,
          3.719145525466039e-14,
          7.458850554685058e-14,
          6.273269184358047e-14,
          null
         ],
         "yaxis": "y3"
        },
        {
         "legendgroup": "group7",
         "line": {
          "color": "gray"
         },
         "name": "Imports Of Goods And Services",
         "showlegend": false,
         "type": "scatter",
         "x": [
          1998,
          1999,
          2000,
          2001,
          2002,
          2003,
          2004,
          2005,
          2006,
          2007,
          2008,
          2009,
          2010,
          2011,
          2012,
          2013,
          2014,
          2015,
          2016,
          2017,
          2018,
          2019,
          2020,
          2021,
          2022,
          2023,
          2024
         ],
         "xaxis": "x2",
         "y": [
          1.8835067749023438e-05,
          2.711266279220581e-05,
          5.066394805908203e-07,
          4.7422945499420166e-05,
          5.225837230682373e-05,
          8.456408977508545e-05,
          0.00012925267219543457,
          5.1856040954589844e-05,
          7.203221321105957e-05,
          4.0978193283081055e-05,
          9.059906005859375e-06,
          0.00011533498764038086,
          3.5643577575683594e-05,
          4.357099533081055e-05,
          6.312131881713867e-05,
          1.7762184143066406e-05,
          0.0001035928726196289,
          2.9802322387695312e-06,
          7.510185241699219e-05,
          2.6106834411621094e-05,
          9.72747802734375e-05,
          0.00011348724365234375,
          7.772445678710938e-05,
          0.00021886825561523438,
          9.1552734375e-05,
          0.0001506805419921875,
          null
         ],
         "yaxis": "y2"
        },
        {
         "legendgroup": "group7",
         "line": {
          "color": "gray"
         },
         "name": "Imports Of Goods And Services",
         "showlegend": false,
         "type": "scatter",
         "x": [
          1998,
          1999,
          2000,
          2001,
          2002,
          2003,
          2004,
          2005,
          2006,
          2007,
          2008,
          2009,
          2010,
          2011,
          2012,
          2013,
          2014,
          2015,
          2016,
          2017,
          2018,
          2019,
          2020,
          2021,
          2022,
          2023,
          2024
         ],
         "xaxis": "x4",
         "y": [
          1.3269645803853284e-10,
          1.3392704169221042e-10,
          1.314570596033069e-12,
          8.452753326487463e-11,
          6.308287669453086e-11,
          7.713366111663405e-11,
          8.799569105942778e-11,
          3.1413368575917106e-11,
          3.432957526380722e-11,
          1.7780879916444654e-11,
          3.348533636745708e-12,
          4.8941076344653683e-11,
          1.1970640431594146e-11,
          1.0231770694655081e-11,
          1.4019296155456424e-11,
          3.390060524671029e-12,
          1.765102343036454e-11,
          4.773368327239094e-13,
          1.1326443188222013e-11,
          2.8028978436833145e-12,
          8.24145327636328e-12,
          8.726535937147864e-12,
          4.777756175177076e-12,
          8.53543898094456e-12,
          1.4320993064995312e-12,
          1.6519608852142856e-12,
          null
         ],
         "yaxis": "y4"
        }
       ],
       "layout": {
        "annotations": [
         {
          "font": {
           "size": 16
          },
          "showarrow": false,
          "text": "Not Adjusted",
          "x": 0.225,
          "xanchor": "center",
          "xref": "paper",
          "y": 1,
          "yanchor": "bottom",
          "yref": "paper"
         },
         {
          "font": {
           "size": 16
          },
          "showarrow": false,
          "text": "Seas Adjusted",
          "x": 0.775,
          "xanchor": "center",
          "xref": "paper",
          "y": 1,
          "yanchor": "bottom",
          "yref": "paper"
         }
        ],
        "height": 600,
        "template": {
         "data": {
          "bar": [
           {
            "error_x": {
             "color": "#2a3f5f"
            },
            "error_y": {
             "color": "#2a3f5f"
            },
            "marker": {
             "line": {
              "color": "#E5ECF6",
              "width": 0.5
             },
             "pattern": {
              "fillmode": "overlay",
              "size": 10,
              "solidity": 0.2
             }
            },
            "type": "bar"
           }
          ],
          "barpolar": [
           {
            "marker": {
             "line": {
              "color": "#E5ECF6",
              "width": 0.5
             },
             "pattern": {
              "fillmode": "overlay",
              "size": 10,
              "solidity": 0.2
             }
            },
            "type": "barpolar"
           }
          ],
          "carpet": [
           {
            "aaxis": {
             "endlinecolor": "#2a3f5f",
             "gridcolor": "white",
             "linecolor": "white",
             "minorgridcolor": "white",
             "startlinecolor": "#2a3f5f"
            },
            "baxis": {
             "endlinecolor": "#2a3f5f",
             "gridcolor": "white",
             "linecolor": "white",
             "minorgridcolor": "white",
             "startlinecolor": "#2a3f5f"
            },
            "type": "carpet"
           }
          ],
          "choropleth": [
           {
            "colorbar": {
             "outlinewidth": 0,
             "ticks": ""
            },
            "type": "choropleth"
           }
          ],
          "contour": [
           {
            "colorbar": {
             "outlinewidth": 0,
             "ticks": ""
            },
            "colorscale": [
             [
              0,
              "#0d0887"
             ],
             [
              0.1111111111111111,
              "#46039f"
             ],
             [
              0.2222222222222222,
              "#7201a8"
             ],
             [
              0.3333333333333333,
              "#9c179e"
             ],
             [
              0.4444444444444444,
              "#bd3786"
             ],
             [
              0.5555555555555556,
              "#d8576b"
             ],
             [
              0.6666666666666666,
              "#ed7953"
             ],
             [
              0.7777777777777778,
              "#fb9f3a"
             ],
             [
              0.8888888888888888,
              "#fdca26"
             ],
             [
              1,
              "#f0f921"
             ]
            ],
            "type": "contour"
           }
          ],
          "contourcarpet": [
           {
            "colorbar": {
             "outlinewidth": 0,
             "ticks": ""
            },
            "type": "contourcarpet"
           }
          ],
          "heatmap": [
           {
            "colorbar": {
             "outlinewidth": 0,
             "ticks": ""
            },
            "colorscale": [
             [
              0,
              "#0d0887"
             ],
             [
              0.1111111111111111,
              "#46039f"
             ],
             [
              0.2222222222222222,
              "#7201a8"
             ],
             [
              0.3333333333333333,
              "#9c179e"
             ],
             [
              0.4444444444444444,
              "#bd3786"
             ],
             [
              0.5555555555555556,
              "#d8576b"
             ],
             [
              0.6666666666666666,
              "#ed7953"
             ],
             [
              0.7777777777777778,
              "#fb9f3a"
             ],
             [
              0.8888888888888888,
              "#fdca26"
             ],
             [
              1,
              "#f0f921"
             ]
            ],
            "type": "heatmap"
           }
          ],
          "heatmapgl": [
           {
            "colorbar": {
             "outlinewidth": 0,
             "ticks": ""
            },
            "colorscale": [
             [
              0,
              "#0d0887"
             ],
             [
              0.1111111111111111,
              "#46039f"
             ],
             [
              0.2222222222222222,
              "#7201a8"
             ],
             [
              0.3333333333333333,
              "#9c179e"
             ],
             [
              0.4444444444444444,
              "#bd3786"
             ],
             [
              0.5555555555555556,
              "#d8576b"
             ],
             [
              0.6666666666666666,
              "#ed7953"
             ],
             [
              0.7777777777777778,
              "#fb9f3a"
             ],
             [
              0.8888888888888888,
              "#fdca26"
             ],
             [
              1,
              "#f0f921"
             ]
            ],
            "type": "heatmapgl"
           }
          ],
          "histogram": [
           {
            "marker": {
             "pattern": {
              "fillmode": "overlay",
              "size": 10,
              "solidity": 0.2
             }
            },
            "type": "histogram"
           }
          ],
          "histogram2d": [
           {
            "colorbar": {
             "outlinewidth": 0,
             "ticks": ""
            },
            "colorscale": [
             [
              0,
              "#0d0887"
             ],
             [
              0.1111111111111111,
              "#46039f"
             ],
             [
              0.2222222222222222,
              "#7201a8"
             ],
             [
              0.3333333333333333,
              "#9c179e"
             ],
             [
              0.4444444444444444,
              "#bd3786"
             ],
             [
              0.5555555555555556,
              "#d8576b"
             ],
             [
              0.6666666666666666,
              "#ed7953"
             ],
             [
              0.7777777777777778,
              "#fb9f3a"
             ],
             [
              0.8888888888888888,
              "#fdca26"
             ],
             [
              1,
              "#f0f921"
             ]
            ],
            "type": "histogram2d"
           }
          ],
          "histogram2dcontour": [
           {
            "colorbar": {
             "outlinewidth": 0,
             "ticks": ""
            },
            "colorscale": [
             [
              0,
              "#0d0887"
             ],
             [
              0.1111111111111111,
              "#46039f"
             ],
             [
              0.2222222222222222,
              "#7201a8"
             ],
             [
              0.3333333333333333,
              "#9c179e"
             ],
             [
              0.4444444444444444,
              "#bd3786"
             ],
             [
              0.5555555555555556,
              "#d8576b"
             ],
             [
              0.6666666666666666,
              "#ed7953"
             ],
             [
              0.7777777777777778,
              "#fb9f3a"
             ],
             [
              0.8888888888888888,
              "#fdca26"
             ],
             [
              1,
              "#f0f921"
             ]
            ],
            "type": "histogram2dcontour"
           }
          ],
          "mesh3d": [
           {
            "colorbar": {
             "outlinewidth": 0,
             "ticks": ""
            },
            "type": "mesh3d"
           }
          ],
          "parcoords": [
           {
            "line": {
             "colorbar": {
              "outlinewidth": 0,
              "ticks": ""
             }
            },
            "type": "parcoords"
           }
          ],
          "pie": [
           {
            "automargin": true,
            "type": "pie"
           }
          ],
          "scatter": [
           {
            "fillpattern": {
             "fillmode": "overlay",
             "size": 10,
             "solidity": 0.2
            },
            "type": "scatter"
           }
          ],
          "scatter3d": [
           {
            "line": {
             "colorbar": {
              "outlinewidth": 0,
              "ticks": ""
             }
            },
            "marker": {
             "colorbar": {
              "outlinewidth": 0,
              "ticks": ""
             }
            },
            "type": "scatter3d"
           }
          ],
          "scattercarpet": [
           {
            "marker": {
             "colorbar": {
              "outlinewidth": 0,
              "ticks": ""
             }
            },
            "type": "scattercarpet"
           }
          ],
          "scattergeo": [
           {
            "marker": {
             "colorbar": {
              "outlinewidth": 0,
              "ticks": ""
             }
            },
            "type": "scattergeo"
           }
          ],
          "scattergl": [
           {
            "marker": {
             "colorbar": {
              "outlinewidth": 0,
              "ticks": ""
             }
            },
            "type": "scattergl"
           }
          ],
          "scattermapbox": [
           {
            "marker": {
             "colorbar": {
              "outlinewidth": 0,
              "ticks": ""
             }
            },
            "type": "scattermapbox"
           }
          ],
          "scatterpolar": [
           {
            "marker": {
             "colorbar": {
              "outlinewidth": 0,
              "ticks": ""
             }
            },
            "type": "scatterpolar"
           }
          ],
          "scatterpolargl": [
           {
            "marker": {
             "colorbar": {
              "outlinewidth": 0,
              "ticks": ""
             }
            },
            "type": "scatterpolargl"
           }
          ],
          "scatterternary": [
           {
            "marker": {
             "colorbar": {
              "outlinewidth": 0,
              "ticks": ""
             }
            },
            "type": "scatterternary"
           }
          ],
          "surface": [
           {
            "colorbar": {
             "outlinewidth": 0,
             "ticks": ""
            },
            "colorscale": [
             [
              0,
              "#0d0887"
             ],
             [
              0.1111111111111111,
              "#46039f"
             ],
             [
              0.2222222222222222,
              "#7201a8"
             ],
             [
              0.3333333333333333,
              "#9c179e"
             ],
             [
              0.4444444444444444,
              "#bd3786"
             ],
             [
              0.5555555555555556,
              "#d8576b"
             ],
             [
              0.6666666666666666,
              "#ed7953"
             ],
             [
              0.7777777777777778,
              "#fb9f3a"
             ],
             [
              0.8888888888888888,
              "#fdca26"
             ],
             [
              1,
              "#f0f921"
             ]
            ],
            "type": "surface"
           }
          ],
          "table": [
           {
            "cells": {
             "fill": {
              "color": "#EBF0F8"
             },
             "line": {
              "color": "white"
             }
            },
            "header": {
             "fill": {
              "color": "#C8D4E3"
             },
             "line": {
              "color": "white"
             }
            },
            "type": "table"
           }
          ]
         },
         "layout": {
          "annotationdefaults": {
           "arrowcolor": "#2a3f5f",
           "arrowhead": 0,
           "arrowwidth": 1
          },
          "autotypenumbers": "strict",
          "coloraxis": {
           "colorbar": {
            "outlinewidth": 0,
            "ticks": ""
           }
          },
          "colorscale": {
           "diverging": [
            [
             0,
             "#8e0152"
            ],
            [
             0.1,
             "#c51b7d"
            ],
            [
             0.2,
             "#de77ae"
            ],
            [
             0.3,
             "#f1b6da"
            ],
            [
             0.4,
             "#fde0ef"
            ],
            [
             0.5,
             "#f7f7f7"
            ],
            [
             0.6,
             "#e6f5d0"
            ],
            [
             0.7,
             "#b8e186"
            ],
            [
             0.8,
             "#7fbc41"
            ],
            [
             0.9,
             "#4d9221"
            ],
            [
             1,
             "#276419"
            ]
           ],
           "sequential": [
            [
             0,
             "#0d0887"
            ],
            [
             0.1111111111111111,
             "#46039f"
            ],
            [
             0.2222222222222222,
             "#7201a8"
            ],
            [
             0.3333333333333333,
             "#9c179e"
            ],
            [
             0.4444444444444444,
             "#bd3786"
            ],
            [
             0.5555555555555556,
             "#d8576b"
            ],
            [
             0.6666666666666666,
             "#ed7953"
            ],
            [
             0.7777777777777778,
             "#fb9f3a"
            ],
            [
             0.8888888888888888,
             "#fdca26"
            ],
            [
             1,
             "#f0f921"
            ]
           ],
           "sequentialminus": [
            [
             0,
             "#0d0887"
            ],
            [
             0.1111111111111111,
             "#46039f"
            ],
            [
             0.2222222222222222,
             "#7201a8"
            ],
            [
             0.3333333333333333,
             "#9c179e"
            ],
            [
             0.4444444444444444,
             "#bd3786"
            ],
            [
             0.5555555555555556,
             "#d8576b"
            ],
            [
             0.6666666666666666,
             "#ed7953"
            ],
            [
             0.7777777777777778,
             "#fb9f3a"
            ],
            [
             0.8888888888888888,
             "#fdca26"
            ],
            [
             1,
             "#f0f921"
            ]
           ]
          },
          "colorway": [
           "#636efa",
           "#EF553B",
           "#00cc96",
           "#ab63fa",
           "#FFA15A",
           "#19d3f3",
           "#FF6692",
           "#B6E880",
           "#FF97FF",
           "#FECB52"
          ],
          "font": {
           "color": "#2a3f5f"
          },
          "geo": {
           "bgcolor": "white",
           "lakecolor": "white",
           "landcolor": "#E5ECF6",
           "showlakes": true,
           "showland": true,
           "subunitcolor": "white"
          },
          "hoverlabel": {
           "align": "left"
          },
          "hovermode": "closest",
          "mapbox": {
           "style": "light"
          },
          "paper_bgcolor": "white",
          "plot_bgcolor": "#E5ECF6",
          "polar": {
           "angularaxis": {
            "gridcolor": "white",
            "linecolor": "white",
            "ticks": ""
           },
           "bgcolor": "#E5ECF6",
           "radialaxis": {
            "gridcolor": "white",
            "linecolor": "white",
            "ticks": ""
           }
          },
          "scene": {
           "xaxis": {
            "backgroundcolor": "#E5ECF6",
            "gridcolor": "white",
            "gridwidth": 2,
            "linecolor": "white",
            "showbackground": true,
            "ticks": "",
            "zerolinecolor": "white"
           },
           "yaxis": {
            "backgroundcolor": "#E5ECF6",
            "gridcolor": "white",
            "gridwidth": 2,
            "linecolor": "white",
            "showbackground": true,
            "ticks": "",
            "zerolinecolor": "white"
           },
           "zaxis": {
            "backgroundcolor": "#E5ECF6",
            "gridcolor": "white",
            "gridwidth": 2,
            "linecolor": "white",
            "showbackground": true,
            "ticks": "",
            "zerolinecolor": "white"
           }
          },
          "shapedefaults": {
           "line": {
            "color": "#2a3f5f"
           }
          },
          "ternary": {
           "aaxis": {
            "gridcolor": "white",
            "linecolor": "white",
            "ticks": ""
           },
           "baxis": {
            "gridcolor": "white",
            "linecolor": "white",
            "ticks": ""
           },
           "bgcolor": "#E5ECF6",
           "caxis": {
            "gridcolor": "white",
            "linecolor": "white",
            "ticks": ""
           }
          },
          "title": {
           "x": 0.05
          },
          "xaxis": {
           "automargin": true,
           "gridcolor": "white",
           "linecolor": "white",
           "ticks": "",
           "title": {
            "standoff": 15
           },
           "zerolinecolor": "white",
           "zerolinewidth": 2
          },
          "yaxis": {
           "automargin": true,
           "gridcolor": "white",
           "linecolor": "white",
           "ticks": "",
           "title": {
            "standoff": 15
           },
           "zerolinecolor": "white",
           "zerolinewidth": 2
          }
         }
        },
        "title": {
         "text": "The Difference between Temporally Aggregated Nominal Values and Unadjusted Annual Nominal Values",
         "x": 0.4
        },
        "width": 1250,
        "xaxis": {
         "anchor": "y",
         "domain": [
          0,
          0.45
         ]
        },
        "xaxis2": {
         "anchor": "y2",
         "domain": [
          0.55,
          1
         ]
        },
        "xaxis3": {
         "anchor": "y3",
         "domain": [
          0,
          0.45
         ]
        },
        "xaxis4": {
         "anchor": "y4",
         "domain": [
          0.55,
          1
         ]
        },
        "yaxis": {
         "anchor": "x",
         "domain": [
          0.625,
          1
         ],
         "title": {
          "text": "Absolute difference in thousand TRY"
         }
        },
        "yaxis2": {
         "anchor": "x2",
         "domain": [
          0.625,
          1
         ]
        },
        "yaxis3": {
         "anchor": "x3",
         "domain": [
          0,
          0.375
         ],
         "title": {
          "text": "Absolute Percentage deviation (%)"
         }
        },
        "yaxis4": {
         "anchor": "x4",
         "domain": [
          0,
          0.375
         ]
        }
       }
      },
      "text/html": [
       "<div>                            <div id=\"5068a717-5388-4b49-b551-9f04728dbba9\" class=\"plotly-graph-div\" style=\"height:600px; width:1250px;\"></div>            <script type=\"text/javascript\">                require([\"plotly\"], function(Plotly) {                    window.PLOTLYENV=window.PLOTLYENV || {};                                    if (document.getElementById(\"5068a717-5388-4b49-b551-9f04728dbba9\")) {                    Plotly.newPlot(                        \"5068a717-5388-4b49-b551-9f04728dbba9\",                        [{\"legendgroup\":\"group0\",\"line\":{\"color\":\"blue\"},\"name\":\"GDP\",\"showlegend\":true,\"x\":[1998,1999,2000,2001,2002,2003,2004,2005,2006,2007,2008,2009,2010,2011,2012,2013,2014,2015,2016,2017,2018,2019,2020,2021,2022,2023,2024],\"y\":[1.5497207641601562e-06,4.112720489501953e-06,1.996755599975586e-06,3.993511199951172e-06,3.4570693969726562e-06,3.337860107421875e-06,7.271766662597656e-06,7.867813110351562e-06,1.1920928955078125e-05,1.0013580322265625e-05,8.225440979003906e-06,7.152557373046875e-07,9.5367431640625e-07,1.430511474609375e-06,5.0067901611328125e-06,0.0,8.106231689453125e-05,0.0,4.76837158203125e-07,9.5367431640625e-07,0.0,0.00040149688720703125,3.814697265625e-06,1.9073486328125e-06,0.00019073486328125,1.1444091796875e-05,null],\"type\":\"scatter\",\"xaxis\":\"x\",\"yaxis\":\"y\"},{\"legendgroup\":\"group0\",\"line\":{\"color\":\"blue\"},\"name\":\"GDP\",\"showlegend\":false,\"x\":[1998,1999,2000,2001,2002,2003,2004,2005,2006,2007,2008,2009,2010,2011,2012,2013,2014,2015,2016,2017,2018,2019,2020,2021,2022,2023,2024],\"y\":[2.1540443875938075e-12,3.830266739942269e-12,1.1643282880722e-12,1.6150654958765607e-12,9.547023725098016e-13,7.069164829366288e-13,1.247616323943076e-12,1.1565621712861956e-12,1.4980612579986864e-12,1.1280182192280279e-12,8.202829908321263e-13,7.1072664483397e-14,8.167365997946599e-14,1.0182100909894202e-13,3.165890515713259e-13,0.0,3.944834424548254e-12,0.0,1.815443815932497e-14,3.043281161971805e-14,0.0,9.298623690701508e-12,7.555998665779698e-14,2.6285989192161695e-14,1.270568276224981e-12,4.311087068744232e-14,null],\"type\":\"scatter\",\"xaxis\":\"x3\",\"yaxis\":\"y3\"},{\"legendgroup\":\"group0\",\"line\":{\"color\":\"blue\"},\"name\":\"GDP\",\"showlegend\":false,\"x\":[1998,1999,2000,2001,2002,2003,2004,2005,2006,2007,2008,2009,2010,2011,2012,2013,2014,2015,2016,2017,2018,2019,2020,2021,2022,2023,2024],\"y\":[2.9802322387695312e-08,8.940696716308594e-08,0.0,2.384185791015625e-07,2.980232238769531e-07,1.7881393432617188e-07,1.1920928955078125e-07,0.0,2.384185791015625e-07,1.1920928955078125e-07,7.152557373046875e-07,7.152557373046875e-07,1.1920928955078125e-06,1.6689300537109375e-06,5.0067901611328125e-06,2.384185791015625e-07,8.20159912109375e-05,0.0,4.76837158203125e-07,1.9073486328125e-06,9.5367431640625e-07,0.00039005279541015625,1.9073486328125e-06,1.1444091796875e-05,0.000194549560546875,3.814697265625e-06,null],\"type\":\"scatter\",\"xaxis\":\"x2\",\"yaxis\":\"y2\"},{\"legendgroup\":\"group0\",\"line\":{\"color\":\"blue\"},\"name\":\"GDP\",\"showlegend\":false,\"x\":[1998,1999,2000,2001,2002,2003,2004,2005,2006,2007,2008,2009,2010,2011,2012,2013,2014,2015,2016,2017,2018,2019,2020,2021,2022,2023,2024],\"y\":[4.142393053065014e-14,8.326666825961454e-14,0.0,9.642182064934691e-14,8.230192866463806e-14,3.787052587160512e-14,2.045272662201764e-14,0.0,2.996122515997373e-14,1.342878832414319e-14,7.132895572453271e-14,7.1072664483397e-14,1.020920749743325e-13,1.18791177282099e-13,3.165890515713259e-13,1.3075299307312269e-14,3.991244241307646e-12,0.0,1.815443815932497e-14,6.08656232394361e-14,2.5355818612152665e-14,9.033579785028306e-12,3.777999332889849e-14,1.5771593515297017e-13,1.2959796417494807e-12,1.437029022914744e-14,null],\"type\":\"scatter\",\"xaxis\":\"x4\",\"yaxis\":\"y4\"},{\"legendgroup\":\"group1\",\"line\":{\"color\":\"orange\"},\"name\":\"Final Consumption Expenditure of Households\",\"showlegend\":true,\"x\":[1998,1999,2000,2001,2002,2003,2004,2005,2006,2007,2008,2009,2010,2011,2012,2013,2014,2015,2016,2017,2018,2019,2020,2021,2022,2023,2024],\"y\":[9.313225746154785e-07,1.4603137969970703e-06,2.384185791015625e-07,1.5497207641601562e-06,4.172325134277344e-07,1.1920928955078125e-07,8.344650268554688e-07,1.3113021850585938e-06,3.0994415283203125e-06,2.0265579223632812e-06,9.5367431640625e-07,3.6954879760742188e-06,2.7418136596679688e-06,1.3113021850585938e-06,2.7418136596679688e-06,1.1920928955078125e-06,0.0,9.5367431640625e-07,7.152557373046875e-07,9.5367431640625e-07,4.76837158203125e-07,4.76837158203125e-07,0.0,0.0,9.5367431640625e-07,1.9073486328125e-06,null],\"type\":\"scatter\",\"xaxis\":\"x\",\"yaxis\":\"y\"},{\"legendgroup\":\"group1\",\"line\":{\"color\":\"orange\"},\"name\":\"Final Consumption Expenditure of Households\",\"showlegend\":false,\"x\":[1998,1999,2000,2001,2002,2003,2004,2005,2006,2007,2008,2009,2010,2011,2012,2013,2014,2015,2016,2017,2018,2019,2020,2021,2022,2023,2024],\"y\":[2.0149475582155774e-12,2.069603983328283e-12,2.0873229130439856e-13,9.714994572852318e-13,1.815476673031887e-13,3.8899297381586924e-14,2.2393502738043212e-13,3.0556307145417446e-13,6.343693861293426e-13,3.696404605515789e-13,1.565139478695445e-13,5.996555676295598e-13,3.7634232729948846e-13,1.4953980799754938e-13,2.8122221962117634e-13,1.0703799895078885e-13,0.0,6.792720787370233e-14,4.6090401515034505e-14,5.221212373369419e-14,2.2705062347723893e-14,1.9528439585707282e-14,0.0,0.0,1.1136306852932199e-14,1.2154411644463566e-14,null],\"type\":\"scatter\",\"xaxis\":\"x3\",\"yaxis\":\"y3\"},{\"legendgroup\":\"group1\",\"line\":{\"color\":\"orange\"},\"name\":\"Final Consumption Expenditure of Households\",\"showlegend\":false,\"x\":[1998,1999,2000,2001,2002,2003,2004,2005,2006,2007,2008,2009,2010,2011,2012,2013,2014,2015,2016,2017,2018,2019,2020,2021,2022,2023,2024],\"y\":[1.8030405044555664e-05,3.997981548309326e-05,2.637505531311035e-06,2.0116567611694336e-05,0.00010499358177185059,6.759166717529297e-05,1.055002212524414e-05,8.726119995117188e-05,1.5497207641601562e-05,3.314018249511719e-05,0.00010478496551513672,2.2530555725097656e-05,0.00010395050048828125,1.728534698486328e-05,8.809566497802734e-05,7.963180541992188e-05,5.936622619628906e-05,6.699562072753906e-05,5.5789947509765625e-05,0.0001087188720703125,0.0001583099365234375,0.0002522468566894531,0.00012874603271484375,6.580352783203125e-05,9.918212890625e-05,0.0002346038818359375,null],\"type\":\"scatter\",\"xaxis\":\"x2\",\"yaxis\":\"y2\"},{\"legendgroup\":\"group1\",\"line\":{\"color\":\"orange\"},\"name\":\"Final Consumption Expenditure of Households\",\"showlegend\":false,\"x\":[1998,1999,2000,2001,2002,2003,2004,2005,2006,2007,2008,2009,2010,2011,2012,2013,2014,2015,2016,2017,2018,2019,2020,2021,2022,2023,2024],\"y\":[3.900938472705358e-11,5.666068864561003e-11,2.309100972554909e-12,1.2610810262837145e-11,4.568517370779527e-11,2.2055901615359786e-11,2.831178560452606e-12,2.0333833482223244e-11,3.1718469306467132e-12,6.044708707843466e-12,1.7196970022166203e-11,3.65596458974151e-12,1.4268283017615388e-11,1.9712065599676965e-12,9.035792186958665e-12,7.150138329912696e-12,4.806069201714636e-12,4.7718863531275886e-12,3.5950513181726916e-12,5.952182105641138e-12,7.538080699444333e-12,1.0330544540839153e-11,4.5223207162312826e-12,1.6519265362905208e-12,1.1581759127049486e-12,1.4949926322690186e-12,null],\"type\":\"scatter\",\"xaxis\":\"x4\",\"yaxis\":\"y4\"},{\"legendgroup\":\"group2\",\"line\":{\"color\":\"green\"},\"name\":\"Final Consumption Expenditure Of Npish\",\"showlegend\":true,\"x\":[1998,1999,2000,2001,2002,2003,2004,2005,2006,2007,2008,2009,2010,2011,2012,2013,2014,2015,2016,2017,2018,2019,2020,2021,2022,2023,2024],\"y\":[2.6193447411060333e-10,5.820766091346741e-10,5.820766091346741e-10,5.820766091346741e-10,1.1641532182693481e-09,1.1641532182693481e-09,4.656612873077393e-10,1.3969838619232178e-09,4.656612873077393e-10,0.0,4.656612873077393e-10,9.313225746154785e-10,4.656612873077393e-10,1.0710209608078003e-08,9.313225746154785e-10,2.7939677238464355e-09,2.3283064365386963e-08,2.8870999813079834e-08,3.5390257835388184e-08,0.0,0.0,1.862645149230957e-09,7.450580596923828e-09,3.725290298461914e-09,7.450580596923828e-09,0.0,null],\"type\":\"scatter\",\"xaxis\":\"x\",\"yaxis\":\"y\"},{\"legendgroup\":\"group2\",\"line\":{\"color\":\"green\"},\"name\":\"Final Consumption Expenditure Of Npish\",\"showlegend\":false,\"x\":[1998,1999,2000,2001,2002,2003,2004,2005,2006,2007,2008,2009,2010,2011,2012,2013,2014,2015,2016,2017,2018,2019,2020,2021,2022,2023,2024],\"y\":[1.1232260168077389e-13,1.6861786004549572e-13,9.951367415922652e-14,7.279012204688347e-14,8.881300663803592e-14,6.011005573611542e-14,2.3083828670068686e-14,6.486785128065368e-14,1.839823286678433e-14,0.0,1.4712460207002248e-14,2.75546472113031e-14,1.3944315662771047e-14,2.561167031838366e-13,2.2541916264734828e-14,6.792077965967248e-14,4.425123752178867e-13,4.06187030531634e-13,4.143172185094266e-13,0.0,0.0,1.2503910387062108e-14,3.9065768433170045e-14,1.4767479032096055e-14,1.89174588575369e-14,0.0,null],\"type\":\"scatter\",\"xaxis\":\"x3\",\"yaxis\":\"y3\"},{\"legendgroup\":\"group2\",\"line\":{\"color\":\"green\"},\"name\":\"Final Consumption Expenditure Of Npish\",\"showlegend\":false,\"x\":[1998,1999,2000,2001,2002,2003,2004,2005,2006,2007,2008,2009,2010,2011,2012,2013,2014,2015,2016,2017,2018,2019,2020,2021,2022,2023,2024],\"y\":[1.6324338503181934e-06,0.00010448123794049025,5.945248994976282e-05,4.462699871510267e-05,0.00015858258120715618,3.777584061026573e-05,4.195142537355423e-06,1.1566095054149628e-05,6.1853788793087006e-06,5.78584149479866e-06,7.525086402893066e-06,7.501803338527679e-07,1.1589843779802322e-05,1.7564743757247925e-05,2.7567148208618164e-07,6.454065442085266e-07,1.2433156371116638e-06,8.745118975639343e-07,1.73225998878479e-06,0.000214478000998497,0.00013983435928821564,9.283609688282013e-05,8.341297507286072e-05,1.3560056686401367e-06,0.0003851279616355896,0.0006761401891708374,null],\"type\":\"scatter\",\"xaxis\":\"x2\",\"yaxis\":\"y2\"},{\"legendgroup\":\"group2\",\"line\":{\"color\":\"green\"},\"name\":\"Final Consumption Expenditure Of Npish\",\"showlegend\":false,\"x\":[1998,1999,2000,2001,2002,2003,2004,2005,2006,2007,2008,2009,2010,2011,2012,2013,2014,2015,2016,2017,2018,2019,2020,2021,2022,2023,2024],\"y\":[7.000194142527341e-10,3.0266467471730364e-08,1.0164187359479573e-08,5.58071675116369e-09,1.2098232102442545e-08,1.9505232205923563e-09,2.079622124886488e-10,5.370625633696254e-10,2.4438372716949626e-10,2.0321721661047857e-10,2.377533569451563e-10,2.2195268328704648e-11,3.470600725307086e-10,4.2003139322149205e-10,6.672407214361509e-12,1.5689700101384343e-11,2.363016083663515e-11,1.2303536182877558e-11,2.0279737537566673e-11,2.125652991260958e-09,1.079735596991988e-09,6.232073976015626e-10,4.3736081049355527e-10,5.375362367682964e-12,9.778623658049399e-10,9.52612377396458e-10,null],\"type\":\"scatter\",\"xaxis\":\"x4\",\"yaxis\":\"y4\"},{\"legendgroup\":\"group3\",\"line\":{\"color\":\"red\"},\"name\":\"Government Final Consumption Expenditure\",\"showlegend\":true,\"x\":[1998,1999,2000,2001,2002,2003,2004,2005,2006,2007,2008,2009,2010,2011,2012,2013,2014,2015,2016,2017,2018,2019,2020,2021,2022,2023,2024],\"y\":[9.313225746154785e-10,1.862645149230957e-09,0.0,7.450580596923828e-09,0.0,7.450580596923828e-09,0.0,0.0,1.4901161193847656e-08,1.4901161193847656e-08,0.0,0.0,0.0,0.0,2.9802322387695312e-08,0.0,5.960464477539063e-08,1.1920928955078125e-07,1.1920928955078125e-07,5.960464477539063e-08,0.0,1.1920928955078125e-07,1.1920928955078125e-07,0.0,4.76837158203125e-07,9.5367431640625e-07,null],\"type\":\"scatter\",\"xaxis\":\"x\",\"yaxis\":\"y\"},{\"legendgroup\":\"group3\",\"line\":{\"color\":\"red\"},\"name\":\"Government Final Consumption Expenditure\",\"showlegend\":false,\"x\":[1998,1999,2000,2001,2002,2003,2004,2005,2006,2007,2008,2009,2010,2011,2012,2013,2014,2015,2016,2017,2018,2019,2020,2021,2022,2023,2024],\"y\":[1.2197028249711535e-14,1.3693126596165357e-14,0.0,2.3827302589791424e-14,0.0,1.2532852136185669e-14,0.0,0.0,1.4507631639816814e-14,1.2536499959303786e-14,0.0,0.0,0.0,0.0,1.334023960332308e-14,0.0,2.0689142196579507e-14,3.673046867655584e-14,3.08052937794118e-14,1.3226821574945142e-14,0.0,1.80792567286337e-14,1.5748475750703033e-14,0.0,2.7257896495296627e-14,2.742870893534746e-14,null],\"type\":\"scatter\",\"xaxis\":\"x3\",\"yaxis\":\"y3\"},{\"legendgroup\":\"group3\",\"line\":{\"color\":\"red\"},\"name\":\"Government Final Consumption Expenditure\",\"showlegend\":false,\"x\":[1998,1999,2000,2001,2002,2003,2004,2005,2006,2007,2008,2009,2010,2011,2012,2013,2014,2015,2016,2017,2018,2019,2020,2021,2022,2023,2024],\"y\":[1.0617077350616455e-06,0.00011607073247432709,3.1031668186187744e-05,2.2605061531066895e-05,7.849931716918945e-05,0.00022629648447036743,0.00012573599815368652,7.152557373046875e-05,0.00010187923908233643,6.115436553955078e-05,0.0001245439052581787,0.00010761618614196777,0.00013309717178344727,9.804964065551758e-05,7.668137550354004e-05,0.0001068115234375,2.2649765014648438e-06,0.00022780895233154297,0.0001640915870666504,0.00024384260177612305,3.0279159545898438e-05,0.0002557039260864258,0.00027751922607421875,0.00019466876983642578,1.4543533325195312e-05,5.5789947509765625e-05,null],\"type\":\"scatter\",\"xaxis\":\"x2\",\"yaxis\":\"y2\"},{\"legendgroup\":\"group3\",\"line\":{\"color\":\"red\"},\"name\":\"Government Final Consumption Expenditure\",\"showlegend\":false,\"x\":[1998,1999,2000,2001,2002,2003,2004,2005,2006,2007,2008,2009,2010,2011,2012,2013,2014,2015,2016,2017,2018,2019,2020,2021,2022,2023,2024],\"y\":[1.390461220467115e-11,8.532871838400441e-10,1.5169249772574827e-10,7.229203605742718e-11,1.6889133761568117e-10,3.8066031793236733e-10,1.7516981036283195e-10,8.628116923618896e-11,9.918867752142756e-11,5.144979583298274e-11,9.134956736496049e-11,6.829461395486986e-11,7.663138792267313e-11,5.1314701540071e-11,3.4324436499350285e-11,4.178608455144689e-11,7.861874034700212e-13,7.019192564089822e-11,4.240348688736035e-11,5.4110927063100575e-11,5.5486473047425745e-12,3.878000568291929e-11,3.666245154763667e-11,2.0724048067991634e-11,8.313658431065471e-13,1.6045794727178266e-12,null],\"type\":\"scatter\",\"xaxis\":\"x4\",\"yaxis\":\"y4\"},{\"legendgroup\":\"group4\",\"line\":{\"color\":\"purple\"},\"name\":\"Gross Fixed Capital Formation\",\"showlegend\":true,\"x\":[1998,1999,2000,2001,2002,2003,2004,2005,2006,2007,2008,2009,2010,2011,2012,2013,2014,2015,2016,2017,2018,2019,2020,2021,2022,2023,2024],\"y\":[3.688037395477295e-07,1.948326826095581e-06,1.2367963790893555e-06,2.898275852203369e-06,3.2186508178710938e-06,3.7997961044311523e-06,5.781650543212891e-06,6.139278411865234e-06,6.854534149169922e-06,6.467103958129883e-06,6.4373016357421875e-06,1.4901161193847656e-07,1.1324882507324219e-06,7.748603820800781e-07,4.76837158203125e-07,0.0,2.384185791015625e-07,0.0,2.384185791015625e-07,2.384185791015625e-07,2.384185791015625e-07,0.0,0.0,0.0,0.000194549560546875,0.0,null],\"type\":\"scatter\",\"xaxis\":\"x\",\"yaxis\":\"y\"},{\"legendgroup\":\"group4\",\"line\":{\"color\":\"purple\"},\"name\":\"Gross Fixed Capital Formation\",\"showlegend\":false,\"x\":[1998,1999,2000,2001,2002,2003,2004,2005,2006,2007,2008,2009,2010,2011,2012,2013,2014,2015,2016,2017,2018,2019,2020,2021,2022,2023,2024],\"y\":[2.185833512033513e-12,9.127227536921899e-12,3.2469361525711e-12,6.529846861189386e-12,4.564183390787696e-12,3.891784615056662e-12,3.939755549107408e-12,3.4171023783642564e-12,3.025498282738837e-12,2.6123101902374948e-12,2.408719726646683e-12,6.660909640858819e-14,3.9369054216481693e-13,1.987923580914861e-13,1.1143054418325787e-13,0.0,4.036235478708985e-14,0.0,3.118436962297628e-14,2.5482017482568798e-14,2.1295275176376516e-14,0.0,0.0,0.0,4.443929015265699e-12,0.0,null],\"type\":\"scatter\",\"xaxis\":\"x3\",\"yaxis\":\"y3\"},{\"legendgroup\":\"group4\",\"line\":{\"color\":\"purple\"},\"name\":\"Gross Fixed Capital Formation\",\"showlegend\":false,\"x\":[1998,1999,2000,2001,2002,2003,2004,2005,2006,2007,2008,2009,2010,2011,2012,2013,2014,2015,2016,2017,2018,2019,2020,2021,2022,2023,2024],\"y\":[1.548975706100464e-05,3.416091203689575e-06,3.16128134727478e-05,1.8998980522155762e-06,4.4092535972595215e-05,8.392333984375e-05,7.69495964050293e-05,1.4275312423706055e-05,1.7940998077392578e-05,2.47955322265625e-05,1.8894672393798828e-05,4.9620866775512695e-05,4.6372413635253906e-05,4.887580871582031e-06,4.166364669799805e-05,6.556510925292969e-07,4.9948692321777344e-05,1.8596649169921875e-05,7.140636444091797e-05,6.341934204101562e-05,1.6450881958007812e-05,8.58306884765625e-05,9.751319885253906e-05,2.3603439331054688e-05,8.0108642578125e-05,0.00016880035400390625,null],\"type\":\"scatter\",\"xaxis\":\"x2\",\"yaxis\":\"y2\"},{\"legendgroup\":\"group4\",\"line\":{\"color\":\"purple\"},\"name\":\"Gross Fixed Capital Formation\",\"showlegend\":false,\"x\":[1998,1999,2000,2001,2002,2003,2004,2005,2006,2007,2008,2009,2010,2011,2012,2013,2014,2015,2016,2017,2018,2019,2020,2021,2022,2023,2024],\"y\":[9.180500750540755e-11,1.6003188625922336e-11,8.299247045397094e-11,4.280490873016179e-12,6.252508635805924e-11,8.595502334117303e-11,5.243530323605839e-11,7.945592423478052e-12,7.918912896559912e-12,1.0015862111878322e-11,7.070038456916652e-12,2.2180829104059865e-11,1.6120591673906714e-11,1.2539210279616816e-12,9.736243798012156e-12,1.2684845007689054e-13,8.455913327895324e-12,2.6765065624282763e-12,9.339718702081397e-12,6.7782166503633006e-12,1.4693739871699795e-12,7.652083469244622e-12,7.01797134191658e-12,1.1546351749034724e-12,1.829853123932935e-12,1.9960844433217778e-12,null],\"type\":\"scatter\",\"xaxis\":\"x4\",\"yaxis\":\"y4\"},{\"legendgroup\":\"group5\",\"line\":{\"color\":\"magenta\"},\"name\":\"Change In stocks\",\"showlegend\":true,\"x\":[1998,1999,2000,2001,2002,2003,2004,2005,2006,2007,2008,2009,2010,2011,2012,2013,2014,2015,2016,2017,2018,2019,2020,2021,2022,2023,2024],\"y\":[1.2852251529693604e-07,1.2828968465328217e-07,6.332993507385254e-08,4.981702659279108e-07,4.3958425521850586e-07,7.245689630508423e-07,1.3085082173347473e-07,2.2957101464271545e-07,6.984919309616089e-08,2.5797635316848755e-07,1.341104507446289e-07,5.929730832576752e-06,3.8333237171173096e-06,2.5704503059387207e-06,7.3481351137161255e-06,2.771615982055664e-06,8.574221283197403e-05,3.6135315895080566e-07,3.8743019104003906e-07,4.470348358154297e-07,6.221234798431396e-07,0.00039949268102645874,4.1425228118896484e-06,3.2782554626464844e-06,1.0728836059570312e-06,1.5497207641601562e-06,null],\"type\":\"scatter\",\"xaxis\":\"x\",\"yaxis\":\"y\"},{\"legendgroup\":\"group5\",\"line\":{\"color\":\"magenta\"},\"name\":\"Change In stocks\",\"showlegend\":false,\"x\":[1998,1999,2000,2001,2002,2003,2004,2005,2006,2007,2008,2009,2010,2011,2012,2013,2014,2015,2016,2017,2018,2019,2020,2021,2022,2023,2024],\"y\":[4.1653214086402925e-11,8.191255213284095e-12,2.450693053977177e-12,2.681856058808749e-10,7.434368758936773e-12,9.411596526378457e-12,1.1429210590477777e-11,8.581360820693005e-12,9.999190403197635e-13,4.0709645122702676e-12,6.406834911235151e-13,1.0038813334169324e-10,1.550690849262047e-11,5.613493277537373e-12,4.580205068931411e-11,1.1940525558076347e-11,1.8818136559013444e-09,1.1340548086637293e-12,1.3549584788434459e-12,1.7041976576582461e-12,5.3578866984246325e-12,8.414554130422173e-10,2.1489062444086717e-12,1.3978624587626922e-12,1.216084149251901e-13,3.0848247724072957e-13,null],\"type\":\"scatter\",\"xaxis\":\"x3\",\"yaxis\":\"y3\"},{\"legendgroup\":\"group5\",\"line\":{\"color\":\"magenta\"},\"name\":\"Change In stocks\",\"showlegend\":false,\"x\":[1998,1999,2000,2001,2002,2003,2004,2005,2006,2007,2008,2009,2010,2011,2012,2013,2014,2015,2016,2017,2018,2019,2020,2021,2022,2023,2024],\"y\":[5.553592927753925e-06,0.00014603720046579838,5.747796967625618e-05,8.897486259229481e-05,0.0004762895405292511,0.0009713275358080864,0.0003272618632763624,8.08127224445343e-05,0.0001493506133556366,0.0001385742798447609,0.00021549314260482788,0.0005258293822407722,0.000787634402513504,0.0002061203122138977,6.695464253425598e-05,0.0002957955002784729,1.9700266420841217e-05,0.00045610591769218445,0.0005899742245674133,0.0007020421326160431,0.00020337477326393127,0.00042819976806640625,0.001438230276107788,0.0005511045455932617,6.854534149169922e-05,0.00024777650833129883,null],\"type\":\"scatter\",\"xaxis\":\"x2\",\"yaxis\":\"y2\"},{\"legendgroup\":\"group5\",\"line\":{\"color\":\"magenta\"},\"name\":\"Change In stocks\",\"showlegend\":false,\"x\":[1998,1999,2000,2001,2002,2003,2004,2005,2006,2007,2008,2009,2010,2011,2012,2013,2014,2015,2016,2017,2018,2019,2020,2021,2022,2023,2024],\"y\":[1.7998791467317496e-09,9.324428404994767e-09,2.2242382039085653e-09,4.7898839140943764e-08,8.055138550307993e-09,1.261680161332782e-08,2.8584801410236946e-08,3.0207782601751457e-09,2.1380135597578473e-09,2.1867545944918047e-09,1.0294715896536349e-09,8.90209549636983e-09,3.1862100638350374e-09,4.5013707687846793e-10,4.1733853335312674e-10,1.2743301214548093e-09,4.323684816518887e-10,1.4314226855540589e-09,2.0633151374465047e-09,2.6763430098222454e-09,1.7515156199227303e-09,9.019214364005728e-10,7.460724204958135e-10,2.3499338715854277e-10,7.769426509109368e-12,4.9321602226527416e-11,null],\"type\":\"scatter\",\"xaxis\":\"x4\",\"yaxis\":\"y4\"},{\"legendgroup\":\"group6\",\"line\":{\"color\":\"brown\"},\"name\":\"Exports Of Goods And Services\",\"showlegend\":true,\"x\":[1998,1999,2000,2001,2002,2003,2004,2005,2006,2007,2008,2009,2010,2011,2012,2013,2014,2015,2016,2017,2018,2019,2020,2021,2022,2023,2024],\"y\":[3.0547380447387695e-07,2.4586915969848633e-07,4.991888999938965e-07,7.450580596923828e-08,1.6391277313232422e-07,1.6391277313232422e-07,3.2782554626464844e-07,1.1920928955078125e-07,5.960464477539062e-07,2.086162567138672e-07,1.4901161193847656e-07,5.960464477539062e-07,4.172325134277344e-07,5.960464477539062e-07,5.364418029785156e-07,0.0,1.7881393432617188e-07,2.384185791015625e-07,3.5762786865234375e-07,1.1920928955078125e-07,9.5367431640625e-07,2.384185791015625e-07,7.152557373046875e-07,1.9073486328125e-06,2.86102294921875e-06,9.5367431640625e-07,null],\"type\":\"scatter\",\"xaxis\":\"x\",\"yaxis\":\"y\"},{\"legendgroup\":\"group6\",\"line\":{\"color\":\"brown\"},\"name\":\"Exports Of Goods And Services\",\"showlegend\":false,\"x\":[1998,1999,2000,2001,2002,2003,2004,2005,2006,2007,2008,2009,2010,2011,2012,2013,2014,2015,2016,2017,2018,2019,2020,2021,2022,2023,2024],\"y\":[2.054536749685834e-12,1.2172898967765267e-12,1.4641072380662662e-12,1.108523412053185e-13,1.8030609908682016e-13,1.5089272486166415e-13,2.3807655342076413e-13,8.010356068551187e-14,3.344658107434898e-13,1.0735901677199282e-13,6.30570128921322e-14,2.534305336216215e-13,1.6859489232197253e-13,1.845088791239735e-13,1.3924070791069006e-13,0.0,3.452352163622819e-14,4.134072984063044e-14,5.898508992403106e-14,1.4609008610100293e-14,8.118357256816173e-14,1.6695023172529157e-14,4.865080037350682e-14,7.35402100386061e-14,4.9394630615660105e-14,1.1256395076537178e-14,null],\"type\":\"scatter\",\"xaxis\":\"x3\",\"yaxis\":\"y3\"},{\"legendgroup\":\"group6\",\"line\":{\"color\":\"brown\"},\"name\":\"Exports Of Goods And Services\",\"showlegend\":false,\"x\":[1998,1999,2000,2001,2002,2003,2004,2005,2006,2007,2008,2009,2010,2011,2012,2013,2014,2015,2016,2017,2018,2019,2020,2021,2022,2023,2024],\"y\":[1.5189871191978455e-05,5.680695176124573e-05,1.7471611499786377e-05,5.8323144912719727e-05,0.00010786950588226318,8.83936882019043e-05,8.803606033325195e-05,8.881092071533203e-06,1.2546777725219727e-05,3.984570503234863e-05,1.3440847396850586e-05,7.784366607666016e-05,6.67273998260498e-05,1.5735626220703125e-05,3.826618194580078e-05,5.1975250244140625e-05,7.927417755126953e-05,2.9087066650390625e-05,0.0001062154769897461,2.562999725341797e-05,5.841255187988281e-05,1.430511474609375e-06,6.556510925292969e-05,0.00012111663818359375,5.054473876953125e-05,7.82012939453125e-05,null],\"type\":\"scatter\",\"xaxis\":\"x2\",\"yaxis\":\"y2\"},{\"legendgroup\":\"group6\",\"line\":{\"color\":\"brown\"},\"name\":\"Exports Of Goods And Services\",\"showlegend\":false,\"x\":[1998,1999,2000,2001,2002,2003,2004,2005,2006,2007,2008,2009,2010,2011,2012,2013,2014,2015,2016,2017,2018,2019,2020,2021,2022,2023,2024],\"y\":[1.0216309264443888e-10,2.8124929751432207e-10,5.124375333231932e-11,8.677521269552331e-11,1.1865780466268102e-10,8.137233126176288e-11,6.39343762549943e-11,5.9677152710706344e-12,7.04050531615046e-12,2.0505572203450628e-11,5.6877425628703245e-12,3.3098027690983766e-11,2.6963140279206893e-11,4.8710344088729e-12,9.932503830962557e-12,1.198005342031414e-11,1.5305427925394497e-11,5.043569040556913e-12,1.7518571707437227e-11,3.1409368511715627e-12,4.972493819799907e-12,1.0017013903517494e-13,4.459656700904792e-12,4.669803337451487e-12,8.726384742099952e-13,9.230243962760486e-13,null],\"type\":\"scatter\",\"xaxis\":\"x4\",\"yaxis\":\"y4\"},{\"legendgroup\":\"group7\",\"line\":{\"color\":\"gray\"},\"name\":\"Imports Of Goods And Services\",\"showlegend\":true,\"x\":[1998,1999,2000,2001,2002,2003,2004,2005,2006,2007,2008,2009,2010,2011,2012,2013,2014,2015,2016,2017,2018,2019,2020,2021,2022,2023,2024],\"y\":[1.73225998878479e-07,3.0919909477233887e-07,1.2665987014770508e-07,6.705522537231445e-08,1.4901161193847656e-07,2.5331974029541016e-07,6.556510925292969e-07,4.76837158203125e-07,1.3113021850585938e-06,9.834766387939453e-07,7.152557373046875e-07,8.940696716308594e-07,5.960464477539062e-07,2.384185791015625e-07,7.152557373046875e-07,5.960464477539063e-08,1.1920928955078125e-07,1.1920928955078125e-07,1.1920928955078125e-07,2.384185791015625e-07,7.152557373046875e-07,1.430511474609375e-06,2.384185791015625e-07,9.5367431640625e-07,4.76837158203125e-06,5.7220458984375e-06,null],\"type\":\"scatter\",\"xaxis\":\"x\",\"yaxis\":\"y\"},{\"legendgroup\":\"group7\",\"line\":{\"color\":\"gray\"},\"name\":\"Imports Of Goods And Services\",\"showlegend\":false,\"x\":[1998,1999,2000,2001,2002,2003,2004,2005,2006,2007,2008,2009,2010,2011,2012,2013,2014,2015,2016,2017,2018,2019,2020,2021,2022,2023,2024],\"y\":[1.2204084847293864e-12,1.5273350454044331e-12,3.2864264900826726e-13,1.1952047123077324e-13,1.7987703648283678e-13,2.310611874859522e-13,4.463696572071503e-13,2.8885856161762853e-13,6.249488256547446e-13,4.267411179946717e-13,2.6435791869045063e-13,3.793881887182456e-13,2.001779336386981e-13,5.598780133874189e-14,1.5885887994851471e-13,1.1376042029097413e-14,2.031187966670258e-14,1.9093473308956373e-14,1.797848125114605e-14,2.559724058158278e-14,6.059892114972999e-14,1.0999835214892266e-13,1.4655693788886736e-14,3.719145525466039e-14,7.458850554685058e-14,6.273269184358047e-14,null],\"type\":\"scatter\",\"xaxis\":\"x3\",\"yaxis\":\"y3\"},{\"legendgroup\":\"group7\",\"line\":{\"color\":\"gray\"},\"name\":\"Imports Of Goods And Services\",\"showlegend\":false,\"x\":[1998,1999,2000,2001,2002,2003,2004,2005,2006,2007,2008,2009,2010,2011,2012,2013,2014,2015,2016,2017,2018,2019,2020,2021,2022,2023,2024],\"y\":[1.8835067749023438e-05,2.711266279220581e-05,5.066394805908203e-07,4.7422945499420166e-05,5.225837230682373e-05,8.456408977508545e-05,0.00012925267219543457,5.1856040954589844e-05,7.203221321105957e-05,4.0978193283081055e-05,9.059906005859375e-06,0.00011533498764038086,3.5643577575683594e-05,4.357099533081055e-05,6.312131881713867e-05,1.7762184143066406e-05,0.0001035928726196289,2.9802322387695312e-06,7.510185241699219e-05,2.6106834411621094e-05,9.72747802734375e-05,0.00011348724365234375,7.772445678710938e-05,0.00021886825561523438,9.1552734375e-05,0.0001506805419921875,null],\"type\":\"scatter\",\"xaxis\":\"x2\",\"yaxis\":\"y2\"},{\"legendgroup\":\"group7\",\"line\":{\"color\":\"gray\"},\"name\":\"Imports Of Goods And Services\",\"showlegend\":false,\"x\":[1998,1999,2000,2001,2002,2003,2004,2005,2006,2007,2008,2009,2010,2011,2012,2013,2014,2015,2016,2017,2018,2019,2020,2021,2022,2023,2024],\"y\":[1.3269645803853284e-10,1.3392704169221042e-10,1.314570596033069e-12,8.452753326487463e-11,6.308287669453086e-11,7.713366111663405e-11,8.799569105942778e-11,3.1413368575917106e-11,3.432957526380722e-11,1.7780879916444654e-11,3.348533636745708e-12,4.8941076344653683e-11,1.1970640431594146e-11,1.0231770694655081e-11,1.4019296155456424e-11,3.390060524671029e-12,1.765102343036454e-11,4.773368327239094e-13,1.1326443188222013e-11,2.8028978436833145e-12,8.24145327636328e-12,8.726535937147864e-12,4.777756175177076e-12,8.53543898094456e-12,1.4320993064995312e-12,1.6519608852142856e-12,null],\"type\":\"scatter\",\"xaxis\":\"x4\",\"yaxis\":\"y4\"}],                        {\"template\":{\"data\":{\"histogram2dcontour\":[{\"type\":\"histogram2dcontour\",\"colorbar\":{\"outlinewidth\":0,\"ticks\":\"\"},\"colorscale\":[[0.0,\"#0d0887\"],[0.1111111111111111,\"#46039f\"],[0.2222222222222222,\"#7201a8\"],[0.3333333333333333,\"#9c179e\"],[0.4444444444444444,\"#bd3786\"],[0.5555555555555556,\"#d8576b\"],[0.6666666666666666,\"#ed7953\"],[0.7777777777777778,\"#fb9f3a\"],[0.8888888888888888,\"#fdca26\"],[1.0,\"#f0f921\"]]}],\"choropleth\":[{\"type\":\"choropleth\",\"colorbar\":{\"outlinewidth\":0,\"ticks\":\"\"}}],\"histogram2d\":[{\"type\":\"histogram2d\",\"colorbar\":{\"outlinewidth\":0,\"ticks\":\"\"},\"colorscale\":[[0.0,\"#0d0887\"],[0.1111111111111111,\"#46039f\"],[0.2222222222222222,\"#7201a8\"],[0.3333333333333333,\"#9c179e\"],[0.4444444444444444,\"#bd3786\"],[0.5555555555555556,\"#d8576b\"],[0.6666666666666666,\"#ed7953\"],[0.7777777777777778,\"#fb9f3a\"],[0.8888888888888888,\"#fdca26\"],[1.0,\"#f0f921\"]]}],\"heatmap\":[{\"type\":\"heatmap\",\"colorbar\":{\"outlinewidth\":0,\"ticks\":\"\"},\"colorscale\":[[0.0,\"#0d0887\"],[0.1111111111111111,\"#46039f\"],[0.2222222222222222,\"#7201a8\"],[0.3333333333333333,\"#9c179e\"],[0.4444444444444444,\"#bd3786\"],[0.5555555555555556,\"#d8576b\"],[0.6666666666666666,\"#ed7953\"],[0.7777777777777778,\"#fb9f3a\"],[0.8888888888888888,\"#fdca26\"],[1.0,\"#f0f921\"]]}],\"heatmapgl\":[{\"type\":\"heatmapgl\",\"colorbar\":{\"outlinewidth\":0,\"ticks\":\"\"},\"colorscale\":[[0.0,\"#0d0887\"],[0.1111111111111111,\"#46039f\"],[0.2222222222222222,\"#7201a8\"],[0.3333333333333333,\"#9c179e\"],[0.4444444444444444,\"#bd3786\"],[0.5555555555555556,\"#d8576b\"],[0.6666666666666666,\"#ed7953\"],[0.7777777777777778,\"#fb9f3a\"],[0.8888888888888888,\"#fdca26\"],[1.0,\"#f0f921\"]]}],\"contourcarpet\":[{\"type\":\"contourcarpet\",\"colorbar\":{\"outlinewidth\":0,\"ticks\":\"\"}}],\"contour\":[{\"type\":\"contour\",\"colorbar\":{\"outlinewidth\":0,\"ticks\":\"\"},\"colorscale\":[[0.0,\"#0d0887\"],[0.1111111111111111,\"#46039f\"],[0.2222222222222222,\"#7201a8\"],[0.3333333333333333,\"#9c179e\"],[0.4444444444444444,\"#bd3786\"],[0.5555555555555556,\"#d8576b\"],[0.6666666666666666,\"#ed7953\"],[0.7777777777777778,\"#fb9f3a\"],[0.8888888888888888,\"#fdca26\"],[1.0,\"#f0f921\"]]}],\"surface\":[{\"type\":\"surface\",\"colorbar\":{\"outlinewidth\":0,\"ticks\":\"\"},\"colorscale\":[[0.0,\"#0d0887\"],[0.1111111111111111,\"#46039f\"],[0.2222222222222222,\"#7201a8\"],[0.3333333333333333,\"#9c179e\"],[0.4444444444444444,\"#bd3786\"],[0.5555555555555556,\"#d8576b\"],[0.6666666666666666,\"#ed7953\"],[0.7777777777777778,\"#fb9f3a\"],[0.8888888888888888,\"#fdca26\"],[1.0,\"#f0f921\"]]}],\"mesh3d\":[{\"type\":\"mesh3d\",\"colorbar\":{\"outlinewidth\":0,\"ticks\":\"\"}}],\"scatter\":[{\"fillpattern\":{\"fillmode\":\"overlay\",\"size\":10,\"solidity\":0.2},\"type\":\"scatter\"}],\"parcoords\":[{\"type\":\"parcoords\",\"line\":{\"colorbar\":{\"outlinewidth\":0,\"ticks\":\"\"}}}],\"scatterpolargl\":[{\"type\":\"scatterpolargl\",\"marker\":{\"colorbar\":{\"outlinewidth\":0,\"ticks\":\"\"}}}],\"bar\":[{\"error_x\":{\"color\":\"#2a3f5f\"},\"error_y\":{\"color\":\"#2a3f5f\"},\"marker\":{\"line\":{\"color\":\"#E5ECF6\",\"width\":0.5},\"pattern\":{\"fillmode\":\"overlay\",\"size\":10,\"solidity\":0.2}},\"type\":\"bar\"}],\"scattergeo\":[{\"type\":\"scattergeo\",\"marker\":{\"colorbar\":{\"outlinewidth\":0,\"ticks\":\"\"}}}],\"scatterpolar\":[{\"type\":\"scatterpolar\",\"marker\":{\"colorbar\":{\"outlinewidth\":0,\"ticks\":\"\"}}}],\"histogram\":[{\"marker\":{\"pattern\":{\"fillmode\":\"overlay\",\"size\":10,\"solidity\":0.2}},\"type\":\"histogram\"}],\"scattergl\":[{\"type\":\"scattergl\",\"marker\":{\"colorbar\":{\"outlinewidth\":0,\"ticks\":\"\"}}}],\"scatter3d\":[{\"type\":\"scatter3d\",\"line\":{\"colorbar\":{\"outlinewidth\":0,\"ticks\":\"\"}},\"marker\":{\"colorbar\":{\"outlinewidth\":0,\"ticks\":\"\"}}}],\"scattermapbox\":[{\"type\":\"scattermapbox\",\"marker\":{\"colorbar\":{\"outlinewidth\":0,\"ticks\":\"\"}}}],\"scatterternary\":[{\"type\":\"scatterternary\",\"marker\":{\"colorbar\":{\"outlinewidth\":0,\"ticks\":\"\"}}}],\"scattercarpet\":[{\"type\":\"scattercarpet\",\"marker\":{\"colorbar\":{\"outlinewidth\":0,\"ticks\":\"\"}}}],\"carpet\":[{\"aaxis\":{\"endlinecolor\":\"#2a3f5f\",\"gridcolor\":\"white\",\"linecolor\":\"white\",\"minorgridcolor\":\"white\",\"startlinecolor\":\"#2a3f5f\"},\"baxis\":{\"endlinecolor\":\"#2a3f5f\",\"gridcolor\":\"white\",\"linecolor\":\"white\",\"minorgridcolor\":\"white\",\"startlinecolor\":\"#2a3f5f\"},\"type\":\"carpet\"}],\"table\":[{\"cells\":{\"fill\":{\"color\":\"#EBF0F8\"},\"line\":{\"color\":\"white\"}},\"header\":{\"fill\":{\"color\":\"#C8D4E3\"},\"line\":{\"color\":\"white\"}},\"type\":\"table\"}],\"barpolar\":[{\"marker\":{\"line\":{\"color\":\"#E5ECF6\",\"width\":0.5},\"pattern\":{\"fillmode\":\"overlay\",\"size\":10,\"solidity\":0.2}},\"type\":\"barpolar\"}],\"pie\":[{\"automargin\":true,\"type\":\"pie\"}]},\"layout\":{\"autotypenumbers\":\"strict\",\"colorway\":[\"#636efa\",\"#EF553B\",\"#00cc96\",\"#ab63fa\",\"#FFA15A\",\"#19d3f3\",\"#FF6692\",\"#B6E880\",\"#FF97FF\",\"#FECB52\"],\"font\":{\"color\":\"#2a3f5f\"},\"hovermode\":\"closest\",\"hoverlabel\":{\"align\":\"left\"},\"paper_bgcolor\":\"white\",\"plot_bgcolor\":\"#E5ECF6\",\"polar\":{\"bgcolor\":\"#E5ECF6\",\"angularaxis\":{\"gridcolor\":\"white\",\"linecolor\":\"white\",\"ticks\":\"\"},\"radialaxis\":{\"gridcolor\":\"white\",\"linecolor\":\"white\",\"ticks\":\"\"}},\"ternary\":{\"bgcolor\":\"#E5ECF6\",\"aaxis\":{\"gridcolor\":\"white\",\"linecolor\":\"white\",\"ticks\":\"\"},\"baxis\":{\"gridcolor\":\"white\",\"linecolor\":\"white\",\"ticks\":\"\"},\"caxis\":{\"gridcolor\":\"white\",\"linecolor\":\"white\",\"ticks\":\"\"}},\"coloraxis\":{\"colorbar\":{\"outlinewidth\":0,\"ticks\":\"\"}},\"colorscale\":{\"sequential\":[[0.0,\"#0d0887\"],[0.1111111111111111,\"#46039f\"],[0.2222222222222222,\"#7201a8\"],[0.3333333333333333,\"#9c179e\"],[0.4444444444444444,\"#bd3786\"],[0.5555555555555556,\"#d8576b\"],[0.6666666666666666,\"#ed7953\"],[0.7777777777777778,\"#fb9f3a\"],[0.8888888888888888,\"#fdca26\"],[1.0,\"#f0f921\"]],\"sequentialminus\":[[0.0,\"#0d0887\"],[0.1111111111111111,\"#46039f\"],[0.2222222222222222,\"#7201a8\"],[0.3333333333333333,\"#9c179e\"],[0.4444444444444444,\"#bd3786\"],[0.5555555555555556,\"#d8576b\"],[0.6666666666666666,\"#ed7953\"],[0.7777777777777778,\"#fb9f3a\"],[0.8888888888888888,\"#fdca26\"],[1.0,\"#f0f921\"]],\"diverging\":[[0,\"#8e0152\"],[0.1,\"#c51b7d\"],[0.2,\"#de77ae\"],[0.3,\"#f1b6da\"],[0.4,\"#fde0ef\"],[0.5,\"#f7f7f7\"],[0.6,\"#e6f5d0\"],[0.7,\"#b8e186\"],[0.8,\"#7fbc41\"],[0.9,\"#4d9221\"],[1,\"#276419\"]]},\"xaxis\":{\"gridcolor\":\"white\",\"linecolor\":\"white\",\"ticks\":\"\",\"title\":{\"standoff\":15},\"zerolinecolor\":\"white\",\"automargin\":true,\"zerolinewidth\":2},\"yaxis\":{\"gridcolor\":\"white\",\"linecolor\":\"white\",\"ticks\":\"\",\"title\":{\"standoff\":15},\"zerolinecolor\":\"white\",\"automargin\":true,\"zerolinewidth\":2},\"scene\":{\"xaxis\":{\"backgroundcolor\":\"#E5ECF6\",\"gridcolor\":\"white\",\"linecolor\":\"white\",\"showbackground\":true,\"ticks\":\"\",\"zerolinecolor\":\"white\",\"gridwidth\":2},\"yaxis\":{\"backgroundcolor\":\"#E5ECF6\",\"gridcolor\":\"white\",\"linecolor\":\"white\",\"showbackground\":true,\"ticks\":\"\",\"zerolinecolor\":\"white\",\"gridwidth\":2},\"zaxis\":{\"backgroundcolor\":\"#E5ECF6\",\"gridcolor\":\"white\",\"linecolor\":\"white\",\"showbackground\":true,\"ticks\":\"\",\"zerolinecolor\":\"white\",\"gridwidth\":2}},\"shapedefaults\":{\"line\":{\"color\":\"#2a3f5f\"}},\"annotationdefaults\":{\"arrowcolor\":\"#2a3f5f\",\"arrowhead\":0,\"arrowwidth\":1},\"geo\":{\"bgcolor\":\"white\",\"landcolor\":\"#E5ECF6\",\"subunitcolor\":\"white\",\"showland\":true,\"showlakes\":true,\"lakecolor\":\"white\"},\"title\":{\"x\":0.05},\"mapbox\":{\"style\":\"light\"}}},\"xaxis\":{\"anchor\":\"y\",\"domain\":[0.0,0.45]},\"yaxis\":{\"anchor\":\"x\",\"domain\":[0.625,1.0],\"title\":{\"text\":\"Absolute difference in thousand TRY\"}},\"xaxis2\":{\"anchor\":\"y2\",\"domain\":[0.55,1.0]},\"yaxis2\":{\"anchor\":\"x2\",\"domain\":[0.625,1.0]},\"xaxis3\":{\"anchor\":\"y3\",\"domain\":[0.0,0.45]},\"yaxis3\":{\"anchor\":\"x3\",\"domain\":[0.0,0.375],\"title\":{\"text\":\"Absolute Percentage deviation (%)\"}},\"xaxis4\":{\"anchor\":\"y4\",\"domain\":[0.55,1.0]},\"yaxis4\":{\"anchor\":\"x4\",\"domain\":[0.0,0.375]},\"annotations\":[{\"font\":{\"size\":16},\"showarrow\":false,\"text\":\"Not Adjusted\",\"x\":0.225,\"xanchor\":\"center\",\"xref\":\"paper\",\"y\":1.0,\"yanchor\":\"bottom\",\"yref\":\"paper\"},{\"font\":{\"size\":16},\"showarrow\":false,\"text\":\"Seas Adjusted\",\"x\":0.775,\"xanchor\":\"center\",\"xref\":\"paper\",\"y\":1.0,\"yanchor\":\"bottom\",\"yref\":\"paper\"}],\"title\":{\"text\":\"The Difference between Temporally Aggregated Nominal Values and Unadjusted Annual Nominal Values\",\"x\":0.4},\"width\":1250,\"height\":600},                        {\"responsive\": true}                    ).then(function(){\n",
       "                            \n",
       "var gd = document.getElementById('5068a717-5388-4b49-b551-9f04728dbba9');\n",
       "var x = new MutationObserver(function (mutations, observer) {{\n",
       "        var display = window.getComputedStyle(gd).display;\n",
       "        if (!display || display === 'none') {{\n",
       "            console.log([gd, 'removed!']);\n",
       "            Plotly.purge(gd);\n",
       "            observer.disconnect();\n",
       "        }}\n",
       "}});\n",
       "\n",
       "// Listen for the removal of the full notebook cells\n",
       "var notebookContainer = gd.closest('#notebook-container');\n",
       "if (notebookContainer) {{\n",
       "    x.observe(notebookContainer, {childList: true});\n",
       "}}\n",
       "\n",
       "// Listen for the clearing of the current output cell\n",
       "var outputEl = gd.closest('.output');\n",
       "if (outputEl) {{\n",
       "    x.observe(outputEl, {childList: true});\n",
       "}}\n",
       "\n",
       "                        })                };                });            </script>        </div>"
      ]
     },
     "metadata": {},
     "output_type": "display_data"
    },
    {
     "data": {
      "text/html": [
       "<div>\n",
       "<style scoped>\n",
       "    .dataframe tbody tr th:only-of-type {\n",
       "        vertical-align: middle;\n",
       "    }\n",
       "\n",
       "    .dataframe tbody tr th {\n",
       "        vertical-align: top;\n",
       "    }\n",
       "\n",
       "    .dataframe thead tr th {\n",
       "        text-align: left;\n",
       "    }\n",
       "</style>\n",
       "<table border=\"1\" class=\"dataframe\">\n",
       "  <thead>\n",
       "    <tr>\n",
       "      <th></th>\n",
       "      <th></th>\n",
       "      <th colspan=\"2\" halign=\"left\">Difference in Values</th>\n",
       "      <th colspan=\"2\" halign=\"left\">Percentage Deviation</th>\n",
       "    </tr>\n",
       "    <tr>\n",
       "      <th></th>\n",
       "      <th></th>\n",
       "      <th>Average</th>\n",
       "      <th>Max</th>\n",
       "      <th>Average</th>\n",
       "      <th>Max</th>\n",
       "    </tr>\n",
       "  </thead>\n",
       "  <tbody>\n",
       "    <tr>\n",
       "      <th rowspan=\"8\" valign=\"top\">Not Adjusted</th>\n",
       "      <th>GDP</th>\n",
       "      <td>2.937477e-05</td>\n",
       "      <td>4.014969e-04</td>\n",
       "      <td>1.213638e-12</td>\n",
       "      <td>9.298624e-12</td>\n",
       "    </tr>\n",
       "    <tr>\n",
       "      <th>Final Consumption Expenditure of Households</th>\n",
       "      <td>1.194672e-06</td>\n",
       "      <td>3.695488e-06</td>\n",
       "      <td>3.431078e-13</td>\n",
       "      <td>2.069604e-12</td>\n",
       "    </tr>\n",
       "    <tr>\n",
       "      <th>Final Consumption Expenditure Of Npish</th>\n",
       "      <td>5.038321e-09</td>\n",
       "      <td>3.539026e-08</td>\n",
       "      <td>9.459920e-14</td>\n",
       "      <td>4.425124e-13</td>\n",
       "    </tr>\n",
       "    <tr>\n",
       "      <th>Government Final Consumption Expenditure</th>\n",
       "      <td>8.091760e-08</td>\n",
       "      <td>9.536743e-07</td>\n",
       "      <td>1.125387e-14</td>\n",
       "      <td>3.673047e-14</td>\n",
       "    </tr>\n",
       "    <tr>\n",
       "      <th>Gross Fixed Capital Formation</th>\n",
       "      <td>9.353344e-06</td>\n",
       "      <td>1.945496e-04</td>\n",
       "      <td>1.933922e-12</td>\n",
       "      <td>9.127228e-12</td>\n",
       "    </tr>\n",
       "    <tr>\n",
       "      <th>Change In stocks</th>\n",
       "      <td>2.009055e-05</td>\n",
       "      <td>3.994927e-04</td>\n",
       "      <td>1.261191e-10</td>\n",
       "      <td>1.881814e-09</td>\n",
       "    </tr>\n",
       "    <tr>\n",
       "      <th>Exports Of Goods And Services</th>\n",
       "      <td>5.201078e-07</td>\n",
       "      <td>2.861023e-06</td>\n",
       "      <td>2.760385e-13</td>\n",
       "      <td>2.054537e-12</td>\n",
       "    </tr>\n",
       "    <tr>\n",
       "      <th>Imports Of Goods And Services</th>\n",
       "      <td>8.518736e-07</td>\n",
       "      <td>5.722046e-06</td>\n",
       "      <td>2.656406e-13</td>\n",
       "      <td>1.527335e-12</td>\n",
       "    </tr>\n",
       "    <tr>\n",
       "      <th rowspan=\"8\" valign=\"top\">Seas Adjusted</th>\n",
       "      <th>GDP</th>\n",
       "      <td>2.684502e-05</td>\n",
       "      <td>3.900528e-04</td>\n",
       "      <td>6.051201e-13</td>\n",
       "      <td>9.033580e-12</td>\n",
       "    </tr>\n",
       "    <tr>\n",
       "      <th>Final Consumption Expenditure of Households</th>\n",
       "      <td>7.868615e-05</td>\n",
       "      <td>2.522469e-04</td>\n",
       "      <td>1.191585e-11</td>\n",
       "      <td>5.666069e-11</td>\n",
       "    </tr>\n",
       "    <tr>\n",
       "      <th>Final Consumption Expenditure Of Npish</th>\n",
       "      <td>7.960272e-05</td>\n",
       "      <td>6.761402e-04</td>\n",
       "      <td>2.663854e-09</td>\n",
       "      <td>3.026647e-08</td>\n",
       "    </tr>\n",
       "    <tr>\n",
       "      <th>Government Final Consumption Expenditure</th>\n",
       "      <td>1.134297e-04</td>\n",
       "      <td>2.775192e-04</td>\n",
       "      <td>1.033908e-10</td>\n",
       "      <td>8.532872e-10</td>\n",
       "    </tr>\n",
       "    <tr>\n",
       "      <th>Gross Fixed Capital Formation</th>\n",
       "      <td>4.431419e-05</td>\n",
       "      <td>1.688004e-04</td>\n",
       "      <td>2.025907e-11</td>\n",
       "      <td>9.180501e-11</td>\n",
       "    </tr>\n",
       "    <tr>\n",
       "      <th>Change In stocks</th>\n",
       "      <td>3.555593e-04</td>\n",
       "      <td>1.438230e-03</td>\n",
       "      <td>5.515550e-09</td>\n",
       "      <td>4.789884e-08</td>\n",
       "    </tr>\n",
       "    <tr>\n",
       "      <th>Exports Of Goods And Services</th>\n",
       "      <td>5.280119e-05</td>\n",
       "      <td>1.211166e-04</td>\n",
       "      <td>3.724802e-11</td>\n",
       "      <td>2.812493e-10</td>\n",
       "    </tr>\n",
       "    <tr>\n",
       "      <th>Imports Of Goods And Services</th>\n",
       "      <td>6.794930e-05</td>\n",
       "      <td>2.188683e-04</td>\n",
       "      <td>3.160485e-11</td>\n",
       "      <td>1.339270e-10</td>\n",
       "    </tr>\n",
       "  </tbody>\n",
       "</table>\n",
       "</div>"
      ],
      "text/plain": [
       "                                                          Difference in Values  \\\n",
       "                                                                       Average   \n",
       "Not Adjusted  GDP                                                 2.937477e-05   \n",
       "              Final Consumption Expenditure of Households         1.194672e-06   \n",
       "              Final Consumption Expenditure Of Npish              5.038321e-09   \n",
       "              Government Final Consumption Expenditure            8.091760e-08   \n",
       "              Gross Fixed Capital Formation                       9.353344e-06   \n",
       "              Change In stocks                                    2.009055e-05   \n",
       "              Exports Of Goods And Services                       5.201078e-07   \n",
       "              Imports Of Goods And Services                       8.518736e-07   \n",
       "Seas Adjusted GDP                                                 2.684502e-05   \n",
       "              Final Consumption Expenditure of Households         7.868615e-05   \n",
       "              Final Consumption Expenditure Of Npish              7.960272e-05   \n",
       "              Government Final Consumption Expenditure            1.134297e-04   \n",
       "              Gross Fixed Capital Formation                       4.431419e-05   \n",
       "              Change In stocks                                    3.555593e-04   \n",
       "              Exports Of Goods And Services                       5.280119e-05   \n",
       "              Imports Of Goods And Services                       6.794930e-05   \n",
       "\n",
       "                                                                         \\\n",
       "                                                                    Max   \n",
       "Not Adjusted  GDP                                          4.014969e-04   \n",
       "              Final Consumption Expenditure of Households  3.695488e-06   \n",
       "              Final Consumption Expenditure Of Npish       3.539026e-08   \n",
       "              Government Final Consumption Expenditure     9.536743e-07   \n",
       "              Gross Fixed Capital Formation                1.945496e-04   \n",
       "              Change In stocks                             3.994927e-04   \n",
       "              Exports Of Goods And Services                2.861023e-06   \n",
       "              Imports Of Goods And Services                5.722046e-06   \n",
       "Seas Adjusted GDP                                          3.900528e-04   \n",
       "              Final Consumption Expenditure of Households  2.522469e-04   \n",
       "              Final Consumption Expenditure Of Npish       6.761402e-04   \n",
       "              Government Final Consumption Expenditure     2.775192e-04   \n",
       "              Gross Fixed Capital Formation                1.688004e-04   \n",
       "              Change In stocks                             1.438230e-03   \n",
       "              Exports Of Goods And Services                1.211166e-04   \n",
       "              Imports Of Goods And Services                2.188683e-04   \n",
       "\n",
       "                                                          Percentage Deviation  \\\n",
       "                                                                       Average   \n",
       "Not Adjusted  GDP                                                 1.213638e-12   \n",
       "              Final Consumption Expenditure of Households         3.431078e-13   \n",
       "              Final Consumption Expenditure Of Npish              9.459920e-14   \n",
       "              Government Final Consumption Expenditure            1.125387e-14   \n",
       "              Gross Fixed Capital Formation                       1.933922e-12   \n",
       "              Change In stocks                                    1.261191e-10   \n",
       "              Exports Of Goods And Services                       2.760385e-13   \n",
       "              Imports Of Goods And Services                       2.656406e-13   \n",
       "Seas Adjusted GDP                                                 6.051201e-13   \n",
       "              Final Consumption Expenditure of Households         1.191585e-11   \n",
       "              Final Consumption Expenditure Of Npish              2.663854e-09   \n",
       "              Government Final Consumption Expenditure            1.033908e-10   \n",
       "              Gross Fixed Capital Formation                       2.025907e-11   \n",
       "              Change In stocks                                    5.515550e-09   \n",
       "              Exports Of Goods And Services                       3.724802e-11   \n",
       "              Imports Of Goods And Services                       3.160485e-11   \n",
       "\n",
       "                                                                         \n",
       "                                                                    Max  \n",
       "Not Adjusted  GDP                                          9.298624e-12  \n",
       "              Final Consumption Expenditure of Households  2.069604e-12  \n",
       "              Final Consumption Expenditure Of Npish       4.425124e-13  \n",
       "              Government Final Consumption Expenditure     3.673047e-14  \n",
       "              Gross Fixed Capital Formation                9.127228e-12  \n",
       "              Change In stocks                             1.881814e-09  \n",
       "              Exports Of Goods And Services                2.054537e-12  \n",
       "              Imports Of Goods And Services                1.527335e-12  \n",
       "Seas Adjusted GDP                                          9.033580e-12  \n",
       "              Final Consumption Expenditure of Households  5.666069e-11  \n",
       "              Final Consumption Expenditure Of Npish       3.026647e-08  \n",
       "              Government Final Consumption Expenditure     8.532872e-10  \n",
       "              Gross Fixed Capital Formation                9.180501e-11  \n",
       "              Change In stocks                             4.789884e-08  \n",
       "              Exports Of Goods And Services                2.812493e-10  \n",
       "              Imports Of Goods And Services                1.339270e-10  "
      ]
     },
     "metadata": {},
     "output_type": "display_data"
    }
   ],
   "source": [
    "#Settings for the results summary and graph\n",
    "\n",
    "##Dataframe to store results summary\n",
    "index = [(i,j) for i in ['Not Adjusted','Seas Adjusted'] for j in quart_gdp_data['Accounts','Nominal','Not Adjusted'].columns]\n",
    "criteria = ['Difference in Values','Percentage Deviation']\n",
    "statistics = ['Average','Max']\n",
    "columns = [(i,j) for i in criteria for j in statistics]\n",
    "multi_ind =  pd.MultiIndex.from_tuples(index)\n",
    "multi_col =  pd.MultiIndex.from_tuples(columns)\n",
    "results_2 = pd.DataFrame(index=multi_ind,columns=multi_col)\n",
    "##Temporally aggregate quarterly series\n",
    "year_agg = quart_gdp_data.groupby('Year').sum()\n",
    "\n",
    "#Create a plot for the differences between the temporal aggregate series and the annual series by adjustments\n",
    "#Create a statistical summary of the results (results_2)\n",
    "\n",
    "colors = ['blue', 'orange', 'green', 'red', 'purple','magenta' ,'brown', 'gray','purple','yellow','pink', 'olive', 'cyan','silver',\n",
    "         'indigo','orange','green','red']\n",
    "fig = make_subplots(rows=2,cols=2,subplot_titles=['Not Adjusted','Seas Adjusted'])\n",
    "i=0\n",
    "for col in quart_gdp_data['Accounts','Nominal','Not Adjusted'].columns:\n",
    "    j=0\n",
    "    for adj in ['Not Adjusted','Seas Adjusted']:\n",
    "        #Calculate the absolute difference between the values at current prices\n",
    "        series_diff = abs(year_agg['Accounts','Nominal',adj,col]-year_gdp_data['Accounts','Nominal',col])\n",
    "        #Calculate the absolute percentage deviation of the temporally aggregated values from the annual ones\n",
    "        series_dev = 100*series_diff/abs(year_gdp_data['Accounts','Nominal',col])\n",
    "        #Calculate maximums and means\n",
    "        stats = [(series_diff.mean(),series_diff.max()),(series_dev.mean(),series_dev.max())]\n",
    "        #Create Scatter objects\n",
    "        trace_diff = go.Scatter(x=year_gdp_data.index,y=series_diff,name=col,\n",
    "                                line=dict(color=colors[i]),legendgroup=f'group{i}',showlegend=(j==0))\n",
    "        trace_dev = go.Scatter(x=year_gdp_data.index,y=series_dev,name=col,\n",
    "                               line=dict(color=colors[i]),legendgroup=f'group{i}',showlegend=False)\n",
    "        Trace = [trace_diff,trace_dev]\n",
    "        #Add statistics to dataframe and Scatters to graph\n",
    "        for p in range(len(criteria)):\n",
    "            results_2.loc[(adj,col),(criteria[p],'Average')] = stats[p][0]\n",
    "            results_2.loc[(adj,col),(criteria[p],'Max')] = stats[p][1]\n",
    "            fig.add_trace(Trace[p],row=1+p,col=1+j)\n",
    "        j +=1\n",
    "    i+=1\n",
    "#Update the layout\n",
    "fig.update_yaxes(title='Absolute difference in thousand TRY',row=1,col=1)\n",
    "fig.update_yaxes(title='Absolute Percentage deviation (%)',row=2,col=1)\n",
    "fig.update_layout(width=1250,height=600,title='The Difference between Temporally Aggregated Nominal Values and Unadjusted Annual Nominal Values',title_x=0.4)\n",
    "#Adjust datatype\n",
    "results_2=results_2.astype('float64')\n",
    "\n",
    "fig.show() \n",
    "display(results_2)"
   ]
  },
  {
   "cell_type": "markdown",
   "id": "59f316ae",
   "metadata": {},
   "source": [
    "### 2.2.2. Calculation of Quarterly Additional Expenditure Aggregates <a class=\"anchor\" id=\"quart_gdp_agg_quart\"></a>"
   ]
  },
  {
   "cell_type": "code",
   "execution_count": 536,
   "id": "7ad3e630",
   "metadata": {},
   "outputs": [],
   "source": [
    "#See A-III-3 in the Methods section of the report\n",
    "\n",
    "#Define a function to derive annual links from quarterly volume indices from previous year\n",
    "def annual_links(quart_pyp,Insert=(None,None)):\n",
    "    \n",
    "    global year_gdp_data\n",
    "    #Calculate annual links based on quarterly volume indices from previous year\n",
    "    year_pyp = quart_pyp.groupby('Year').mean()\n",
    "    year_pyp.loc[2024] = np.nan\n",
    "    #Chain-link annual links to year 2009\n",
    "    year_cli = year_pyp.cumprod()\n",
    "    year_cli.loc[1998] = 1\n",
    "    year_cli = 100*year_cli/year_cli.loc[2009]\n",
    "    #Add the chain-linked annual links to the annual parent dataset\n",
    "    if Insert[0] and Insert[1]:\n",
    "        year_gdp_data['Accounts',Insert[0],Insert[1]] = year_cli\n",
    "        \n",
    "    return year_cli\n",
    "\n",
    "#Define a function to aggregate quarterly volume indices and values at current prices\n",
    "def q_aggregate_cli_nomi(comp1,comp2,agg_name,Inconsistent=[None]):\n",
    "    \n",
    "    global year_gdp_data,quart_gdp_data\n",
    "    #Aggregation of unadjusted and seasonally adjusted values at current prices\n",
    "    for adj in ['Not Adjusted','Seas Adjusted']:\n",
    "        agg_nominal = quart_gdp_data['Accounts','Nominal',adj,comp1]+quart_gdp_data['Accounts','Nominal',adj,comp2]\n",
    "        #Insert in parent dataset\n",
    "        try:\n",
    "            pos_nominal = quart_gdp_data.columns.get_loc(('Accounts','Nominal',adj,comp2))\n",
    "            quart_gdp_data.insert(pos_nominal+1,('Accounts','Nominal',adj,agg_name),agg_nominal)\n",
    "        except:\n",
    "            quart_gdp_data['Accounts','Nominal',adj,agg_name] = agg_nominal\n",
    "    \n",
    "    #Aggregation of unadjusted and seasonally and calendar adjusted volume indices\n",
    "    for adj in ['Not Adjusted','Adjusted']:\n",
    "        #Calculate and aggregate volume indices from previous year\n",
    "        agg_pyp = 0\n",
    "        for comp in [comp1,comp2]:\n",
    "            if (comp,adj) in Inconsistent:\n",
    "                try:\n",
    "                    #Check if the chain-linked annual links are already calculated\n",
    "                    comp_link = year_gdp_data['Accounts','Volume'*(adj=='Not Adjusted')+'Volume Cal Adjusted'*(adj=='Adjusted'),f'{comp} 2']\n",
    "                except:\n",
    "                    #Derive the chain-linked annual links from the quarterly volume indices \n",
    "                    comp_link = quart_gdp_data['Accounts','Volume',adj,comp].groupby('Year').mean()\n",
    "                    comp_link.loc[2024] = np.nan\n",
    "                    #Add the chain-linked annual links to the annual parent dataset\n",
    "                    year_gdp_data['Accounts','Volume'*(adj=='Not Adjusted')+'Volume Cal Adjusted'*(adj=='Adjusted'),f'{comp} 2'] =\\\n",
    "                    comp_link\n",
    "            else: #If the quarterly and annual volume index series are temporally consistent, then the annual links are equal to the annual volume indices\n",
    "                comp_link = year_gdp_data['Accounts','Volume'*(adj=='Not Adjusted')+'Volume Cal Adjusted'*(adj=='Adjusted'),comp]\n",
    "            #Calculate the volume index from previous year for comp\n",
    "            comp_pyp = quart_gdp_data['Accounts','Volume',adj,comp]\\\n",
    "            /comp_link.shift()\n",
    "            #Aggregating (based on the fact that values at current prices are temporally consistent)\n",
    "            agg_pyp += comp_pyp*(year_gdp_data['Accounts','Nominal',comp]/year_gdp_data['Accounts','Nominal',agg_name]).shift()\n",
    "        \n",
    "        #Chain_link the aggregate indices from previous year\n",
    "        if (agg_name,adj) in Inconsistent:\n",
    "            #Calculate the chain-linked annual links\n",
    "            agg_link = annual_links(agg_pyp,Insert=('Volume'*(adj=='Not Adjusted')+'Volume Cal Adjusted'*(adj=='Adjusted'),f'{agg_name} 2'))\n",
    "        else: #If the quarterly and annual volume index series are temporally consistent, then the annual links are equal to the annual volume indices\n",
    "            agg_link = year_gdp_data['Accounts','Volume'*(adj=='Not Adjusted')+'Volume Cal Adjusted'*(adj=='Adjusted'),agg_name]\n",
    "        agg_cli = agg_pyp * agg_link.shift()\n",
    "        #Insert in parent dataset\n",
    "        try:\n",
    "            pos_cli = quart_gdp_data.columns.get_loc(('Accounts','Volume',adj,comp2))\n",
    "            quart_gdp_data.insert(pos_cli+1,('Accounts','Volume',adj,agg_name),agg_cli)\n",
    "        except:\n",
    "            quart_gdp_data['Accounts','Volume',adj,agg_name] = agg_cli\n",
    "    \n",
    "    print('Done')"
   ]
  },
  {
   "cell_type": "code",
   "execution_count": 537,
   "id": "13c630fc",
   "metadata": {},
   "outputs": [
    {
     "name": "stdout",
     "output_type": "stream",
     "text": [
      "Done\n",
      "Done\n",
      "Done\n"
     ]
    }
   ],
   "source": [
    "#Identify aggregates\n",
    "#Final Private Consumption Expenditure, Final Domestic Consumption Expenditure, and Final Domestic Demand Expenditure \n",
    "#(see A-III-3 in the Methods Section of the report)\n",
    "\n",
    "L = [('Final Consumption Expenditure of Households','Final Consumption Expenditure Of Npish','Final Private Consumption Expenditure'),\n",
    "('Final Private Consumption Expenditure','Government Final Consumption Expenditure','Final Domestic Consumption Expenditure'),\n",
    "('Final Domestic Consumption Expenditure','Gross Fixed Capital Formation','Final Domestic Demand Expenditure')]\n",
    "##The list of temporally inconsistent volume index series (See Methods section, in A-III-3.2.2.b, Step 0 and 3)\n",
    "Inconsistent = [('Government Final Consumption Expenditure','Adjusted'),('Final Domestic Consumption Expenditure','Adjusted'),\n",
    "             ('Final Domestic Demand Expenditure','Adjusted')  ]\n",
    "for req in L:\n",
    "    q_aggregate_cli_nomi(req[0],req[1],req[2],Inconsistent)"
   ]
  },
  {
   "cell_type": "markdown",
   "id": "f9b0f3e6",
   "metadata": {},
   "source": [
    "<a class=\"anchor\" id=\"quart_gdp_gr\"></a>\n",
    "## 2.3. Calculation of Growth Rates "
   ]
  },
  {
   "cell_type": "code",
   "execution_count": 538,
   "id": "68a8ce89",
   "metadata": {},
   "outputs": [],
   "source": [
    "#QonQ and YoY growth rates\n",
    "for freq in ['QonQ','YoY']:\n",
    "    f = 1*(freq=='QonQ') + 4*(freq=='YoY')\n",
    "    df = quart_gdp_data['Accounts'].diff(f)/abs(quart_gdp_data['Accounts'].shift(f))\n",
    "    df = pd.concat([df],keys=[f'Growth Rate {freq}'],axis=1)\n",
    "    quart_gdp_data = pd.concat([quart_gdp_data,df],axis=1)"
   ]
  },
  {
   "cell_type": "markdown",
   "id": "0d95e771",
   "metadata": {},
   "source": [
    "<a class=\"anchor\" id=\"quart_gdp_def\"></a>\n",
    "## 2.4. Calculation of Implicit Price Deflators"
   ]
  },
  {
   "cell_type": "code",
   "execution_count": 539,
   "id": "2095f5a6",
   "metadata": {},
   "outputs": [],
   "source": [
    "Adj = [('Adjusted','Seas Adjusted'),('Seas Adjusted','Seas Adjusted'),('Not Adjusted','Not Adjusted')]\n",
    "for adj in Adj:\n",
    "    for col in quart_gdp_data['Accounts','Volume',adj[0]].columns:\n",
    "        #Calculate the implicit price deflator\n",
    "        quart_gdp_data['Price Deflator',adj[0],col,'Index'] = 100*quart_gdp_data['Accounts','Nominal',adj[1],col]/\\\n",
    "        (quart_gdp_data['Accounts','Volume',adj[0],col]/100*year_gdp_data['Accounts','Nominal',col].loc[2009]/4)\n",
    "        #Calculate the QonQ inflation rate\n",
    "        quart_gdp_data['Price Deflator',adj[0],col,'QonQ %'] = quart_gdp_data['Price Deflator',adj[0],col,'Index'].diff()/quart_gdp_data['Price Deflator',adj[0],col,'Index'].shift()\n",
    "        #Calculate the YoY inflation rate\n",
    "        quart_gdp_data['Price Deflator',adj[0],col,'YoY %'] = quart_gdp_data['Price Deflator',adj[0],col,'Index'].diff(4)/quart_gdp_data['Price Deflator',adj[0],col,'Index'].shift(4)"
   ]
  },
  {
   "cell_type": "markdown",
   "id": "92aac515",
   "metadata": {},
   "source": [
    "<a class=\"anchor\" id=\"quart_gdp_decomp\"></a>\n",
    "## 2.5.  Volume and Price Decomposition into Trend and Cyclical Components "
   ]
  },
  {
   "cell_type": "markdown",
   "id": "cde6a30a",
   "metadata": {},
   "source": [
    "<a class=\"anchor\" id=\"quart_gdp_decomp_volume\"></a>\n",
    "### 2.5.1. Volume Decomposition "
   ]
  },
  {
   "cell_type": "code",
   "execution_count": 540,
   "id": "7f65cd64",
   "metadata": {},
   "outputs": [],
   "source": [
    "Exception = ['Final Private Consumption Expenditure', 'Final Domestic Consumption Expenditure','Final Domestic Demand Expenditure']\n",
    "\n",
    "for col in quart_gdp_data['Accounts','Volume','Adjusted'].columns:\n",
    "    \n",
    "    #A conditional statement to manage missing 1998 data in the identified new aggregates\n",
    "    if col in Exception: y=1999\n",
    "    else: y=1998\n",
    "    #Calculate Log values\n",
    "    series_log = np.log(quart_gdp_data['Accounts','Volume','Adjusted',col])\n",
    "    quart_gdp_data['Volume Decomp','Adjusted',col,'Log Value'] = series_log        \n",
    "    #Use HP Filter\n",
    "    series_cyc,series_trend = sm.tsa.filters.hpfilter(series_log.loc[y:],lamb=1600) \n",
    "    #Reverse Log transformation to get the trend for the original series\n",
    "    quart_gdp_data['Volume Decomp','Adjusted',col,'Trend'] = np.exp(series_trend)\n",
    "    #Calculate the cyclical factor for the original series\n",
    "    quart_gdp_data['Volume Decomp','Adjusted',col,'Cyclical'] = quart_gdp_data['Accounts','Volume','Adjusted',col]/np.exp(series_trend)\n",
    "    #Calculate the percentage deviation from trend\n",
    "    quart_gdp_data['Volume Decomp','Adjusted',col,'Percentage Deviation'] = quart_gdp_data['Volume Decomp','Adjusted',col,'Cyclical']-1\n",
    "    #Trend QonQ growth rate\n",
    "    quart_gdp_data['Volume Decomp','Adjusted',col,'Trend QonQ Growth Rate'] = np.exp(series_trend).diff()/np.exp(series_trend).shift()\n",
    "    #Trend YoY growth rate\n",
    "    quart_gdp_data['Volume Decomp','Adjusted',col,'Trend YoY Growth Rate'] = np.exp(series_trend).diff(4)/np.exp(series_trend).shift(4)"
   ]
  },
  {
   "cell_type": "markdown",
   "id": "3c3f611a",
   "metadata": {},
   "source": [
    " <a class=\"anchor\" id=\"quart_gdp_decomp_price\"></a>\n",
    "### 2.5.2. Price Decomposition"
   ]
  },
  {
   "cell_type": "code",
   "execution_count": 541,
   "id": "193f3c4a",
   "metadata": {},
   "outputs": [],
   "source": [
    "Exception = ['Final Private Consumption Expenditure', 'Final Domestic Consumption Expenditure','Final Domestic Demand Expenditure']\n",
    "\n",
    "for col in quart_gdp_data['Price Deflator','Adjusted'].columns.get_level_values(0).unique():\n",
    "\n",
    "    #A conditional statement to manage missing 1998 data in the identified new aggregates\n",
    "    if col in Exception: y=1999\n",
    "    else: y=1998\n",
    "    #Calculate Log values\n",
    "    series_log = np.log(quart_gdp_data['Price Deflator','Adjusted',col,'Index'])\n",
    "    quart_gdp_data['Price Decomp','Adjusted',col,'Log Value'] = series_log\n",
    "    #Use HP Filter\n",
    "    series_cyc,series_trend = sm.tsa.filters.hpfilter(series_log.loc[y:],lamb=1600) \n",
    "    #Reverse Log transformation to get the trend for the original series\n",
    "    quart_gdp_data['Price Decomp','Adjusted',col,'Trend'] = np.exp(series_trend)\n",
    "    #Calculate the cyclical factor for the original series\n",
    "    quart_gdp_data['Price Decomp','Adjusted',col,'Cyclical'] = quart_gdp_data['Price Deflator','Adjusted',col,'Index']/np.exp(series_trend)\n",
    "    #Calculate the percentage deviation from trend\n",
    "    quart_gdp_data['Price Decomp','Adjusted',col,'Percentage Deviation'] = quart_gdp_data['Price Decomp','Adjusted',col,'Cyclical']-1\n",
    "    #Trend QonQ growth rate\n",
    "    quart_gdp_data['Price Decomp','Adjusted',col,'Trend QonQ Growth Rate'] = np.exp(series_trend).diff()/np.exp(series_trend).shift()\n",
    "    #Trend YoY growth rate\n",
    "    quart_gdp_data['Price Decomp','Adjusted',col,'Trend YoY Growth Rate'] = np.exp(series_trend).diff(4)/np.exp(series_trend).shift(4)"
   ]
  },
  {
   "cell_type": "markdown",
   "id": "49810071",
   "metadata": {},
   "source": [
    "<a class=\"anchor\" id=\"quart_gdp_contrib_qonq\"></a>\n",
    "## 2.6. Calculation of Additive Contributions to QonQ and YoY Growth "
   ]
  },
  {
   "cell_type": "code",
   "execution_count": 542,
   "id": "511652e0",
   "metadata": {},
   "outputs": [],
   "source": [
    "#Prepare the required data (Price indices and Volume measures in monetary terms)\n",
    "\n",
    "##Quarterly volume measures in monetary terms (unadjusted and seasonally and calendar adjusted)\n",
    "quart_gdp_cli_money_adj = 0.01*quart_gdp_data['Accounts','Volume','Adjusted'].multiply(year_gdp_data.loc[2009,('Accounts','Nominal')]/4,axis=1)\n",
    "quart_gdp_cli_money_noadj = 0.01*quart_gdp_data['Accounts','Volume','Not Adjusted'].multiply(year_gdp_data.loc[2009,('Accounts','Nominal')]/4,axis=1)\n",
    "quart_gdp_cli_money = pd.concat([quart_gdp_cli_money_adj,quart_gdp_cli_money_noadj],axis=1,keys=['Adjusted','Not Adjusted'])\n",
    "\n",
    "##Annual volume measures in monetary terms (derived by temporally aggregating quarterly measures)\n",
    "###Unadjusted\n",
    "year_gdp_cli_money_noadj = quart_gdp_cli_money_noadj.groupby('Year').sum()\n",
    "####Add 1998 annual data for the identified aggregates (based on temporal consistency results)\n",
    "for col in ['Final Private Consumption Expenditure','Final Domestic Consumption Expenditure','Final Domestic Demand Expenditure']:\n",
    "    year_gdp_cli_money_noadj[col].loc[1998] = 0.01*year_gdp_data['Accounts','Volume',col].loc[1998]\\\n",
    "    *year_gdp_data['Accounts','Nominal',col].loc[2009]\n",
    "####Mark 2024 annual data as missing\n",
    "year_gdp_cli_money_noadj.loc[2024]=np.nan\n",
    "###Calendar Adjusted\n",
    "year_gdp_cli_money_adj = quart_gdp_cli_money_adj.groupby('Year').sum()\n",
    "####Add 1998 annual data for the identified aggregates (based on temporal consistency results and using the temporally aggregated volume indices for temporally inconsistent series)\n",
    "year_gdp_cli_money_adj['Final Private Consumption Expenditure'].loc[1998] = 0.01*year_gdp_data['Accounts','Volume Cal Adjusted','Final Private Consumption Expenditure'].loc[1998]\\\n",
    "    *year_gdp_data['Accounts','Nominal','Final Private Consumption Expenditure'].loc[2009]\n",
    "for col in ['Final Domestic Consumption Expenditure','Final Domestic Demand Expenditure']:\n",
    "    year_gdp_cli_money_adj[col].loc[1998] = 0.01*year_gdp_data['Accounts','Volume Cal Adjusted',f'{col} 2'].loc[1998]\\\n",
    "    *year_gdp_data['Accounts','Nominal',col].loc[2009]\n",
    "####Mark 2024 annual data as missing\n",
    "year_gdp_cli_money_adj.loc[2024]=np.nan\n",
    "###Concatenate\n",
    "year_gdp_cli_money = pd.concat([year_gdp_cli_money_noadj,year_gdp_cli_money_adj],axis=1,keys=['Not Adjusted','Adjusted'])\n",
    "\n",
    "##Annual price indices (based on temporally aggregated quarterly measures) (unadjusted and calendar adjusted)\n",
    "year_price_index_noadj = 100*(year_gdp_data['Accounts','Nominal']/year_gdp_cli_money_noadj)\n",
    "year_price_index_adj = 100*(year_gdp_data['Accounts','Nominal']/year_gdp_cli_money_adj)\n",
    "year_price_index = pd.concat([year_price_index_noadj,year_price_index_adj],axis=1,keys=['Not Adjusted','Adjusted'])"
   ]
  },
  {
   "cell_type": "code",
   "execution_count": 543,
   "id": "39d3f7ab",
   "metadata": {},
   "outputs": [],
   "source": [
    "#Define a function that computes contributions to nominal and volume growth\n",
    "def q_contrib(Comp,agg_name):\n",
    "    \n",
    "    global quart_gdp_data,quart_gdp_cli_money,year_gdp_cli_money,year_price_index\n",
    "    \n",
    "    \n",
    "    Comp_0 = Comp\n",
    "    #Contributions to QonQ and YoY growth\n",
    "    for freq in ['QonQ','YoY']:\n",
    "        Comp = Comp_0\n",
    "        key_0 = f'Contribution to {agg_name} Growth {freq}'\n",
    "        f = 1*(freq=='QonQ') + 4*(freq=='YoY')\n",
    "        #Calculate contributions to nominal growth (unadjusted and seasonally adjusted)\n",
    "        for adj in ['Not Adjusted','Seas Adjusted']:\n",
    "            df = quart_gdp_data['Accounts','Nominal',adj][list(Comp)].diff(f).div(quart_gdp_data['Accounts','Nominal',adj,Comp[0]].shift(f),axis=0)\n",
    "            #Adjust the sign for Imports' contributions\n",
    "            if agg_name == 'GDP': df['Imports Of Goods And Services'] = - df['Imports Of Goods And Services']\n",
    "            #Add to parent dataset\n",
    "            df = pd.concat([df],axis=1,keys=[(key_0,'Nominal',adj)])\n",
    "            quart_gdp_data = pd.concat([quart_gdp_data,df],axis=1)\n",
    "        print(f'{(key_0,\"Nominal\")} has been added to the parent dataset')\n",
    "        #Calculate contributions to volume growth (unadjusted and seasonally and calendar adjusted)\n",
    "        if agg_name == 'GDP': Comp = tuple([i for i in Comp if i!='Change In stocks'])\n",
    "        for adj in ['Not Adjusted','Adjusted']:\n",
    "            df_0 = quart_gdp_cli_money[adj][list(Comp)].diff(f)*year_price_index[adj][list(Comp)].shift()\\\n",
    "            .div(quart_gdp_cli_money[adj,Comp[0]].shift(f)*year_price_index[adj,Comp[0]].shift(),axis=0)\n",
    "            #Correction term\n",
    "            df_co = (quart_gdp_cli_money[adj][list(Comp)].shift(f).div(quart_gdp_cli_money[adj,Comp[0]].shift(f),axis=0)-\\\n",
    "                      year_gdp_cli_money[adj][list(Comp)].shift().div(year_gdp_cli_money[adj,Comp[0]].shift(),axis=0))*\\\n",
    "                        (year_price_index[adj][list(Comp)].div(year_price_index[adj,Comp[0]],axis=0)).diff().shift()\n",
    "            #Limit the correction term to the first quarter for QonQ growth\n",
    "            if freq=='QonQ': df_co.loc[(slice(None),('Q2','Q3','Q4')),:] = 0\n",
    "            df = df_0 + df_co\n",
    "            #Calculate the contribution of Change in Stocks to GDP volume growth and adjust the sign for Imports' contributions\n",
    "            if agg_name == 'GDP': \n",
    "                df['Change In stocks'] = df['GDP'] - (df['Final Domestic Demand Expenditure']+\\\n",
    "                                    df['Exports Of Goods And Services'] - df['Imports Of Goods And Services'])\n",
    "                df['Imports Of Goods And Services'] = - df['Imports Of Goods And Services']\n",
    "            #Add to parent dataset\n",
    "            df = pd.concat([df],axis=1,keys=[(key_0,'Volume',adj)])\n",
    "            quart_gdp_data = pd.concat([quart_gdp_data,df],axis=1)\n",
    "        print(f'{(key_0,\"Volume\")} has been added to the parent dataset')"
   ]
  },
  {
   "cell_type": "code",
   "execution_count": 544,
   "id": "dbd4fc58",
   "metadata": {},
   "outputs": [
    {
     "name": "stdout",
     "output_type": "stream",
     "text": [
      "('Contribution to GDP Growth QonQ', 'Nominal') has been added to the parent dataset\n",
      "('Contribution to GDP Growth QonQ', 'Volume') has been added to the parent dataset\n",
      "('Contribution to GDP Growth YoY', 'Nominal') has been added to the parent dataset\n",
      "('Contribution to GDP Growth YoY', 'Volume') has been added to the parent dataset\n",
      "('Contribution to Domestic Consumption Growth QonQ', 'Nominal') has been added to the parent dataset\n",
      "('Contribution to Domestic Consumption Growth QonQ', 'Volume') has been added to the parent dataset\n",
      "('Contribution to Domestic Consumption Growth YoY', 'Nominal') has been added to the parent dataset\n",
      "('Contribution to Domestic Consumption Growth YoY', 'Volume') has been added to the parent dataset\n",
      "('Contribution to Domestic Demand Growth QonQ', 'Nominal') has been added to the parent dataset\n",
      "('Contribution to Domestic Demand Growth QonQ', 'Volume') has been added to the parent dataset\n",
      "('Contribution to Domestic Demand Growth YoY', 'Nominal') has been added to the parent dataset\n",
      "('Contribution to Domestic Demand Growth YoY', 'Volume') has been added to the parent dataset\n"
     ]
    }
   ],
   "source": [
    "#Compute contributions to the growth of:\n",
    "#GDP, Final Domestic Consumption Expenditure, and Final Domestic Demand Expenditure \n",
    "#(see A-III-6 in the Methods Section of the report)\n",
    "S1 = tuple(quart_gdp_data['Accounts','Nominal','Not Adjusted'].columns)\n",
    "S2 = ('Final Domestic Consumption Expenditure','Final Consumption Expenditure of Households',\n",
    "        'Final Consumption Expenditure Of Npish','Final Private Consumption Expenditure',\n",
    "    'Government Final Consumption Expenditure')\n",
    "S3 = ('Final Domestic Demand Expenditure','Final Consumption Expenditure of Households',\n",
    "        'Final Consumption Expenditure Of Npish','Final Private Consumption Expenditure',\n",
    "    'Government Final Consumption Expenditure','Final Domestic Consumption Expenditure','Gross Fixed Capital Formation')\n",
    "\n",
    "L = [(S1,'GDP'),(S2,'Domestic Consumption'),(S3,'Domestic Demand')]\n",
    "\n",
    "for req in L:\n",
    "    q_contrib(req[0],req[1])"
   ]
  },
  {
   "cell_type": "markdown",
   "id": "0c9b26c9",
   "metadata": {},
   "source": [
    " <a class=\"anchor\" id=\"quart_gdp_share\"></a>\n",
    "## 2.7. Shares in Main Aggregates"
   ]
  },
  {
   "cell_type": "code",
   "execution_count": 545,
   "id": "548cfe06",
   "metadata": {},
   "outputs": [],
   "source": [
    "#Prepare the required data (price indices and volume measures in monetary terms)\n",
    "\n",
    "##Quarterly volume measures in monetary terms (unadjusted and seasonally and calendar adjusted)\n",
    "quart_gdp_cli_money_adj = 0.01*quart_gdp_data['Accounts','Volume','Adjusted'].multiply(year_gdp_data.loc[2009,('Accounts','Nominal')]/4,axis=1)\n",
    "quart_gdp_cli_money_noadj = 0.01*quart_gdp_data['Accounts','Volume','Not Adjusted'].multiply(year_gdp_data.loc[2009,('Accounts','Nominal')]/4,axis=1)\n",
    "quart_gdp_cli_money = pd.concat([quart_gdp_cli_money_adj,quart_gdp_cli_money_noadj],axis=1,keys=['Adjusted','Not Adjusted'])\n",
    "##Quarterly price indices\n",
    "quart_price_index_adj = quart_gdp_data.loc[:,('Price Deflator','Adjusted',slice(None),'Index')].copy()\n",
    "quart_price_index_adj.columns = quart_price_index_adj.columns.droplevel([0,3])\n",
    "quart_price_index_noadj = quart_gdp_data.loc[:,('Price Deflator','Not Adjusted',slice(None),'Index')].copy()\n",
    "quart_price_index_noadj.columns = quart_price_index_noadj.columns.droplevel([0,3])\n",
    "quart_price_index = pd.concat([quart_price_index_adj,quart_price_index_noadj],axis=1)"
   ]
  },
  {
   "cell_type": "code",
   "execution_count": 546,
   "id": "27aa0667",
   "metadata": {},
   "outputs": [],
   "source": [
    "#Define a function to calculate nominal shares as well as their volume and price components (see A-III-7 in the Methods Section of the report)\n",
    "def q_share(Comp,agg_name):\n",
    "    \n",
    "    global quart_gdp_data,quart_price_index,quart_gdp_cli_money\n",
    "    key_0 = f'Share in {agg_name}'\n",
    "    #Calculate nominal shares\n",
    "    for adj in ['Not Adjusted','Seas Adjusted']:\n",
    "        df = quart_gdp_data['Accounts','Nominal',adj][list(Comp)].div(quart_gdp_data['Accounts','Nominal',adj,Comp[0]],axis=0)\n",
    "        if agg_name == 'GDP': df['Imports Of Goods And Services'] = - df['Imports Of Goods And Services']\n",
    "        df = pd.concat([df],axis=1,keys=[(key_0,'Nominal',adj)])\n",
    "        quart_gdp_data = pd.concat([quart_gdp_data,df],axis=1)\n",
    "        \n",
    "    #Calculate shares' volume and price components\n",
    "    if agg_name == 'GDP': Comp = tuple([i for i in Comp if i!='Change In stocks'])\n",
    "    for db,key_1 in [(quart_gdp_cli_money,'Relative Volume'),(quart_price_index,'Relative Price')]:\n",
    "        for adj in ['Adjusted','Not Adjusted']:\n",
    "            df = db[adj][list(Comp)].div(db[adj,Comp[0]],axis=0)\n",
    "            if agg_name == 'GDP' and key_1 == 'Relative Volume': \n",
    "                df['Imports Of Goods And Services'] = - df['Imports Of Goods And Services'] \n",
    "            df = pd.concat([df],axis=1,keys=[(key_0,key_1,adj)])\n",
    "            quart_gdp_data = pd.concat([quart_gdp_data,df],axis=1)\n",
    "    print('Done')"
   ]
  },
  {
   "cell_type": "code",
   "execution_count": 547,
   "id": "7435dfbe",
   "metadata": {},
   "outputs": [
    {
     "name": "stdout",
     "output_type": "stream",
     "text": [
      "Done\n",
      "Done\n",
      "Done\n"
     ]
    }
   ],
   "source": [
    "#Compute shares in:\n",
    "#GDP, Final Domestic Consumption Expenditure, and Final Domestic Demand Expenditure \n",
    "#(see A-III-7 in the Methods Section of the report)\n",
    "S1 = tuple(quart_gdp_data['Accounts','Nominal','Not Adjusted'].columns)\n",
    "S2 = ('Final Domestic Consumption Expenditure','Final Consumption Expenditure of Households',\n",
    "        'Final Consumption Expenditure Of Npish','Final Private Consumption Expenditure',\n",
    "    'Government Final Consumption Expenditure')\n",
    "S3 = ('Final Domestic Demand Expenditure','Final Consumption Expenditure of Households',\n",
    "        'Final Consumption Expenditure Of Npish','Final Private Consumption Expenditure',\n",
    "    'Government Final Consumption Expenditure','Final Domestic Consumption Expenditure','Gross Fixed Capital Formation')\n",
    "\n",
    "L = [(S1,'GDP'),(S2,'Domestic Consumption'),(S3,'Domestic Demand')]\n",
    "\n",
    "for req in L:\n",
    "    q_share(req[0],req[1])"
   ]
  },
  {
   "cell_type": "markdown",
   "id": "e110be94",
   "metadata": {},
   "source": [
    " <a class=\"anchor\" id=\"quart_gdp_stocks\"></a>\n",
    "## 2.8. Change in Stocks in Real Terms"
   ]
  },
  {
   "cell_type": "code",
   "execution_count": 548,
   "id": "46ea4a4e",
   "metadata": {},
   "outputs": [],
   "source": [
    "#For unadjusted and adjusted series (nominal series do not contain calendar effects)\n",
    "for adj in [('Not Adjusted','Not Adjusted'),('Seas Adjusted','Adjusted')]:\n",
    "    #Calculate change in stocks in real terms\n",
    "    series_r = 100*(quart_gdp_data['Accounts','Nominal',adj[0],'Change In stocks']/quart_gdp_data.loc[2009,('Accounts','Nominal',adj[0],'Change In stocks')].mean())\\\n",
    "/(0.01*quart_gdp_data['Price Deflator',adj[1],'GDP','Index'])\n",
    "    #Calculate QonQ growth rate\n",
    "    series_qonq = series_r.diff()/abs(series_r.shift())\n",
    "    #Calculate YoY growth rate\n",
    "    series_yoy = series_r.diff(4)/abs(series_r.shift(4))\n",
    "    #Insert in parent dataset\n",
    "    Series = [series_r,series_qonq,series_yoy]\n",
    "    j = 0\n",
    "    for data in ['Accounts','Growth Rate QonQ','Growth Rate YoY']:\n",
    "        pos = quart_gdp_data.columns.get_loc((data,'Volume',adj[1],'Final Domestic Demand Expenditure'))+1\n",
    "        quart_gdp_data.insert(pos,(data,'Volume',adj[1],'Change in Stocks (Real)'),Series[j])\n",
    "        j += 1"
   ]
  },
  {
   "cell_type": "markdown",
   "id": "8b81c5bf",
   "metadata": {},
   "source": [
    "### Save Data"
   ]
  },
  {
   "cell_type": "markdown",
   "id": "52b7c042",
   "metadata": {},
   "source": [
    "file_name = curr_dir + '\\\\Results\\\\q_gdp_data.xlsx'\n",
    "quart_gdp_data.to_excel(file_name)"
   ]
  },
  {
   "cell_type": "markdown",
   "id": "e9cf2bfd",
   "metadata": {},
   "source": [
    "file_name = curr_dir + '\\\\Results\\\\y_gdp_data.xlsx'\n",
    "year_gdp_data.to_excel(file_name)"
   ]
  },
  {
   "cell_type": "code",
   "execution_count": null,
   "id": "ad8725ad",
   "metadata": {},
   "outputs": [],
   "source": []
  },
  {
   "cell_type": "code",
   "execution_count": null,
   "id": "286fad5c",
   "metadata": {},
   "outputs": [],
   "source": []
  }
 ],
 "metadata": {
  "kernelspec": {
   "display_name": "Python 3 (ipykernel)",
   "language": "python",
   "name": "python3"
  },
  "language_info": {
   "codemirror_mode": {
    "name": "ipython",
    "version": 3
   },
   "file_extension": ".py",
   "mimetype": "text/x-python",
   "name": "python",
   "nbconvert_exporter": "python",
   "pygments_lexer": "ipython3",
   "version": "3.10.9"
  }
 },
 "nbformat": 4,
 "nbformat_minor": 5
}
